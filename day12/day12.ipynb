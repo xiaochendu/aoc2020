{
 "metadata": {
  "language_info": {
   "codemirror_mode": {
    "name": "ipython",
    "version": 3
   },
   "file_extension": ".py",
   "mimetype": "text/x-python",
   "name": "python",
   "nbconvert_exporter": "python",
   "pygments_lexer": "ipython3",
   "version": "3.9.1-final"
  },
  "orig_nbformat": 2,
  "kernelspec": {
   "name": "python3",
   "display_name": "Python 3",
   "language": "python"
  }
 },
 "nbformat": 4,
 "nbformat_minor": 2,
 "cells": [
  {
   "cell_type": "code",
   "execution_count": 1,
   "metadata": {},
   "outputs": [],
   "source": [
    "from __future__  import annotations\n",
    "from collections import Counter, defaultdict, namedtuple, deque\n",
    "from itertools   import permutations, combinations, cycle, product, islice, chain\n",
    "from functools   import lru_cache\n",
    "from typing      import Dict, Tuple, Set, List, Iterator, Optional\n",
    "from sys         import maxsize\n",
    "\n",
    "import re\n",
    "import ast\n",
    "import operator\n",
    "\n",
    "import numpy as np"
   ]
  },
  {
   "cell_type": "code",
   "execution_count": 2,
   "metadata": {},
   "outputs": [],
   "source": [
    "def read_data(input: str, parser=str, sep='\\n', testing=False) -> list:\n",
    "    if testing:\n",
    "        sections = input.split(sep)\n",
    "    else:\n",
    "        sections = open(input).read().split(sep)\n",
    "    return [parser(section) for section in sections]"
   ]
  },
  {
   "cell_type": "code",
   "execution_count": 3,
   "metadata": {},
   "outputs": [],
   "source": [
    "string = \"\"\"F10\n",
    "N3\n",
    "F7\n",
    "R90\n",
    "F11\"\"\""
   ]
  },
  {
   "cell_type": "code",
   "execution_count": 4,
   "metadata": {},
   "outputs": [],
   "source": [
    "def parse_input(input: str):\n",
    "    dir, val = re.search(r'(\\w)(\\d+)', input).groups()\n",
    "    return dir, int(val)"
   ]
  },
  {
   "cell_type": "code",
   "execution_count": 5,
   "metadata": {},
   "outputs": [
    {
     "output_type": "execute_result",
     "data": {
      "text/plain": [
       "[('F', 10), ('N', 3), ('F', 7), ('R', 90), ('F', 11)]"
      ]
     },
     "metadata": {},
     "execution_count": 5
    }
   ],
   "source": [
    "test_ins = read_data(string, parser=parse_input, sep=\"\\n\", testing=True)\n",
    "test_ins\n"
   ]
  },
  {
   "source": [
    "Part I  \n",
    "\n",
    "Figure out where the navigation instructions lead. What is the Manhattan distance between that location and the ship's starting position?"
   ],
   "cell_type": "markdown",
   "metadata": {}
  },
  {
   "cell_type": "code",
   "execution_count": 6,
   "metadata": {
    "tags": []
   },
   "outputs": [],
   "source": [
    "angles = dict(\n",
    "    E=90,\n",
    "    S=180,\n",
    "    W=270,\n",
    "    N=0\n",
    ")\n",
    "directions = dict([(value, key) for key, value in angles.items()])\n",
    "\n",
    "def run_part1(moves: Tuple[str, int], start_dir='E'):\n",
    "    distances = Counter()\n",
    "    current_dir = start_dir\n",
    "    current_angle = angles[current_dir]\n",
    "    for ins, val in moves:\n",
    "        if ins in 'F':\n",
    "            distances[current_dir] += val\n",
    "        elif ins in 'L':\n",
    "            current_angle = (current_angle - val) % 360\n",
    "        elif ins in 'R':\n",
    "            current_angle = (current_angle + val) % 360 \n",
    "        else:\n",
    "            distances[ins] += val\n",
    "        current_dir = directions[current_angle]\n",
    "    return sum(map(abs, (distances['N'] - distances['S'], distances['E'] - distances['W'])))\n"
   ]
  },
  {
   "source": [
    "run_part1(test_ins)"
   ],
   "cell_type": "code",
   "metadata": {},
   "execution_count": 7,
   "outputs": [
    {
     "output_type": "execute_result",
     "data": {
      "text/plain": [
       "25"
      ]
     },
     "metadata": {},
     "execution_count": 7
    }
   ]
  },
  {
   "cell_type": "code",
   "execution_count": 8,
   "metadata": {},
   "outputs": [
    {
     "output_type": "execute_result",
     "data": {
      "text/plain": [
       "364"
      ]
     },
     "metadata": {},
     "execution_count": 8
    }
   ],
   "source": [
    "real_ins = read_data(\"input.txt\", parser=parse_input)\n",
    "run_part1(real_ins)"
   ]
  },
  {
   "source": [
    "Part II\n",
    "\n",
    "Figure out where the navigation instructions actually lead. What is the Manhattan distance between that location and the ship's starting position?"
   ],
   "cell_type": "markdown",
   "metadata": {}
  },
  {
   "cell_type": "code",
   "execution_count": 9,
   "metadata": {
    "tags": []
   },
   "outputs": [],
   "source": [
    "def update_dir(curr_dir: str, val: int, mov: int) -> str:\n",
    "    # postive val means clockwise, negative means counterclockwise\n",
    "    angle = angles[curr_dir]\n",
    "    new_angle = (angle + val) % 360\n",
    "    new_dir = directions[new_angle]\n",
    "    return new_dir, mov\n",
    "\n",
    "def run_part2(moves: Tuple[str, int], start_wp={'N':1, 'S':0, 'E':10, 'W':0}):\n",
    "    distances = Counter()\n",
    "    current_wp = start_wp\n",
    "    for ins, val in moves:\n",
    "        if ins in 'F':\n",
    "            for direct, mov in current_wp.items():\n",
    "                distances[direct] += val * mov\n",
    "        elif ins in 'L':\n",
    "            current_wp = dict([update_dir(direct, -val, mov) for direct, mov in current_wp.items()])\n",
    "        elif ins in 'R':\n",
    "            current_wp = dict([update_dir(direct, val, mov) for direct, mov in current_wp.items()])\n",
    "        else:\n",
    "            current_wp[ins] += val\n",
    "    return sum(map(abs, (distances['N'] - distances['S'], distances['E'] - distances['W'])))"
   ]
  },
  {
   "cell_type": "code",
   "execution_count": 10,
   "metadata": {},
   "outputs": [
    {
     "output_type": "execute_result",
     "data": {
      "text/plain": [
       "286"
      ]
     },
     "metadata": {},
     "execution_count": 10
    }
   ],
   "source": [
    "run_part2(test_ins, start_wp={'N':1, 'S':0, 'E':10, 'W':0})"
   ]
  },
  {
   "cell_type": "code",
   "execution_count": 11,
   "metadata": {
    "tags": []
   },
   "outputs": [
    {
     "output_type": "execute_result",
     "data": {
      "text/plain": [
       "39518"
      ]
     },
     "metadata": {},
     "execution_count": 11
    }
   ],
   "source": [
    "run_part2(real_ins, start_wp={'N':1, 'S':0, 'E':10, 'W':0})"
   ]
  },
  {
   "cell_type": "code",
   "execution_count": null,
   "metadata": {},
   "outputs": [],
   "source": []
  }
 ]
}