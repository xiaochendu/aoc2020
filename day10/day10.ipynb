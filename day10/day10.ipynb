{
 "metadata": {
  "language_info": {
   "codemirror_mode": {
    "name": "ipython",
    "version": 3
   },
   "file_extension": ".py",
   "mimetype": "text/x-python",
   "name": "python",
   "nbconvert_exporter": "python",
   "pygments_lexer": "ipython3",
   "version": "3.9.1-final"
  },
  "orig_nbformat": 2,
  "kernelspec": {
   "name": "python3",
   "display_name": "Python 3",
   "language": "python"
  }
 },
 "nbformat": 4,
 "nbformat_minor": 2,
 "cells": [
  {
   "cell_type": "code",
   "execution_count": 17,
   "metadata": {},
   "outputs": [],
   "source": [
    "from __future__  import annotations\n",
    "from collections import Counter, defaultdict, namedtuple, deque\n",
    "from itertools   import permutations, combinations, cycle, product, islice, chain\n",
    "from functools   import lru_cache\n",
    "from typing      import Dict, Tuple, Set, List, Iterator, Optional\n",
    "from sys         import maxsize\n",
    "\n",
    "import re\n",
    "import ast\n",
    "import operator\n",
    "\n",
    "import numpy as np"
   ]
  },
  {
   "cell_type": "code",
   "execution_count": 18,
   "metadata": {},
   "outputs": [],
   "source": [
    "def read_data(input: str, parser=str, sep='\\n', testing=False) -> list:\n",
    "    if testing:\n",
    "        sections = input.split(sep)\n",
    "    else:\n",
    "        sections = open(input).read().split(sep)\n",
    "    return [parser(section) for section in sections]"
   ]
  },
  {
   "cell_type": "code",
   "execution_count": 86,
   "metadata": {},
   "outputs": [],
   "source": [
    "string = \"\"\"28\n",
    "33\n",
    "18\n",
    "42\n",
    "31\n",
    "14\n",
    "46\n",
    "20\n",
    "48\n",
    "47\n",
    "24\n",
    "23\n",
    "49\n",
    "45\n",
    "19\n",
    "38\n",
    "39\n",
    "11\n",
    "1\n",
    "32\n",
    "25\n",
    "35\n",
    "8\n",
    "17\n",
    "7\n",
    "9\n",
    "4\n",
    "2\n",
    "34\n",
    "10\n",
    "3\"\"\""
   ]
  },
  {
   "cell_type": "code",
   "execution_count": 87,
   "metadata": {},
   "outputs": [],
   "source": [
    "test_ins = read_data(string, parser=int, sep=\"\\n\", testing=True)\n"
   ]
  },
  {
   "cell_type": "code",
   "execution_count": 88,
   "metadata": {
    "tags": []
   },
   "outputs": [],
   "source": [
    "def run_part1(numbers: List[int]) -> int:\n",
    "    sorted_nums = sorted(numbers)\n",
    "    before = np.array([0] + sorted_nums)\n",
    "    after = np.array(sorted_nums + [sorted_nums[-1] + 3])\n",
    "    \n",
    "    counts = Counter(after - before)\n",
    "    print(counts[1] * counts[3])"
   ]
  },
  {
   "cell_type": "code",
   "execution_count": 89,
   "metadata": {},
   "outputs": [
    {
     "output_type": "stream",
     "name": "stdout",
     "text": [
      "220\n"
     ]
    }
   ],
   "source": [
    "run_part1(test_ins)"
   ]
  },
  {
   "source": [
    "Part I  \n",
    "\n",
    "What is the number of 1-jolt differences multiplied by the number of 3-jolt differences?"
   ],
   "cell_type": "markdown",
   "metadata": {}
  },
  {
   "cell_type": "code",
   "execution_count": 90,
   "metadata": {},
   "outputs": [
    {
     "output_type": "stream",
     "name": "stdout",
     "text": [
      "2048\n"
     ]
    }
   ],
   "source": [
    "real_ins = read_data(\"input.txt\", parser=int)\n",
    "run_part1(real_ins)"
   ]
  },
  {
   "source": [
    "Part II\n",
    "\n",
    "What is the total number of distinct ways you can arrange the adapters to connect the charging outlet to your device?\n"
   ],
   "cell_type": "markdown",
   "metadata": {}
  },
  {
   "cell_type": "code",
   "execution_count": 107,
   "metadata": {},
   "outputs": [],
   "source": [
    "# sorted_nums = sorted(test_ins)  \n",
    "\n",
    "def run_part2(numbers: List[int]) -> int:\n",
    "    sorted_nums = [0] + sorted(numbers) + [max(numbers) + 3]\n",
    "    @lru_cache(maxsize=None)\n",
    "    def num_candidates(current_idx: int) -> int:\n",
    "        if current_idx == len(sorted_nums) - 1:\n",
    "            return 1\n",
    "        else:\n",
    "            next_idx = possible_next(current_idx, sorted_nums)\n",
    "            return sum(num_candidates(next_id) for next_id in next_idx)\n",
    "    return num_candidates(0)\n",
    "\n",
    "def possible_next(current_idx: int, candidates: List[int]) -> List[int]:\n",
    "    return [num[0] for num in enumerate(candidates) \n",
    "            if num[1] <= candidates[current_idx] + 3 \n",
    "            and num[0] > current_idx]\n",
    "    "
   ]
  },
  {
   "cell_type": "code",
   "execution_count": 108,
   "metadata": {},
   "outputs": [
    {
     "output_type": "execute_result",
     "data": {
      "text/plain": [
       "19208"
      ]
     },
     "metadata": {},
     "execution_count": 108
    }
   ],
   "source": [
    "run_part2(test_ins)"
   ]
  },
  {
   "cell_type": "code",
   "execution_count": 109,
   "metadata": {},
   "outputs": [
    {
     "output_type": "execute_result",
     "data": {
      "text/plain": [
       "1322306994176"
      ]
     },
     "metadata": {},
     "execution_count": 109
    }
   ],
   "source": [
    "run_part2(real_ins)"
   ]
  },
  {
   "cell_type": "code",
   "execution_count": null,
   "metadata": {},
   "outputs": [],
   "source": []
  }
 ]
}