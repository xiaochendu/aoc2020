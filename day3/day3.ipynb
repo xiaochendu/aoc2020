{
 "metadata": {
  "language_info": {
   "codemirror_mode": {
    "name": "ipython",
    "version": 3
   },
   "file_extension": ".py",
   "mimetype": "text/x-python",
   "name": "python",
   "nbconvert_exporter": "python",
   "pygments_lexer": "ipython3",
   "version": "3.9.1-final"
  },
  "orig_nbformat": 2,
  "kernelspec": {
   "name": "python3",
   "display_name": "Python 3.9.1 64-bit ('sciprog': conda)",
   "metadata": {
    "interpreter": {
     "hash": "29f88ea52ec83c8bd8b0e6e0fc632120b3bcf91783233876bf29b71ee3226f3c"
    }
   }
  }
 },
 "nbformat": 4,
 "nbformat_minor": 2,
 "cells": [
  {
   "cell_type": "code",
   "execution_count": 21,
   "metadata": {},
   "outputs": [],
   "source": [
    "from typing import Dict, Tuple, Set, List, Iterator, Optional\n",
    "\n",
    "import math"
   ]
  },
  {
   "cell_type": "code",
   "execution_count": 1,
   "metadata": {},
   "outputs": [],
   "source": [
    "def read_data(input: str, sep='\\n') -> list:\n",
    "    sections = open(input).read().split('\\n')\n",
    "    return sections"
   ]
  },
  {
   "cell_type": "code",
   "execution_count": 2,
   "metadata": {},
   "outputs": [],
   "source": [
    "data = read_data(\"input.txt\")"
   ]
  },
  {
   "source": [
    "Part I  \n",
    "Every move go down by 1 and right by 3, how many trees will be encountered?"
   ],
   "cell_type": "markdown",
   "metadata": {}
  },
  {
   "cell_type": "code",
   "execution_count": 16,
   "metadata": {},
   "outputs": [],
   "source": [
    "\n",
    "\n",
    "def traverse(data: List[str], down: int, right: int, tree='#') -> None:\n",
    "    col_idx = 0\n",
    "    col_width = len(data[0])\n",
    "    row_width = len(data)\n",
    "    num_trees = 0\n",
    "    for row in data[::down]:\n",
    "        if row[col_idx] == tree:\n",
    "            num_trees += 1\n",
    "        col_idx += right\n",
    "        col_idx %= col_width\n",
    "    return num_trees"
   ]
  },
  {
   "cell_type": "code",
   "execution_count": 17,
   "metadata": {},
   "outputs": [
    {
     "output_type": "stream",
     "name": "stdout",
     "text": [
      "number of trees is 162\n"
     ]
    }
   ],
   "source": [
    "print(f'number of trees is {traverse(data, 1, 3)}')"
   ]
  },
  {
   "source": [
    "Part II  \n",
    "Determine the number of trees you would encounter if, for each of the following slopes, you start at the top-left corner and traverse the map all the way to the bottom:\n",
    "\n",
    "    Right 1, down 1.\n",
    "    Right 3, down 1. (This is the slope you already checked.)\n",
    "    Right 5, down 1.\n",
    "    Right 7, down 1.\n",
    "    Right 1, down 2.\n",
    "\n",
    "In the above example, these slopes would find 2, 7, 3, 4, and 2 tree(s) respectively; multiplied together, these produce the answer 336.\n",
    "\n",
    "What do you get if you multiply together the number of trees encountered on each of the listed slopes?\n"
   ],
   "cell_type": "markdown",
   "metadata": {}
  },
  {
   "cell_type": "code",
   "execution_count": 22,
   "metadata": {},
   "outputs": [
    {
     "output_type": "execute_result",
     "data": {
      "text/plain": [
       "3064612320"
      ]
     },
     "metadata": {},
     "execution_count": 22
    }
   ],
   "source": [
    "\n",
    "right_down_pairs = [(1,1), (3,1), (5,1), (7,1), (1,2)]\n",
    "math.prod([traverse(data, y, x) for x,y in right_down_pairs])"
   ]
  },
  {
   "cell_type": "code",
   "execution_count": null,
   "metadata": {},
   "outputs": [],
   "source": []
  }
 ]
}