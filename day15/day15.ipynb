{
 "metadata": {
  "language_info": {
   "codemirror_mode": {
    "name": "ipython",
    "version": 3
   },
   "file_extension": ".py",
   "mimetype": "text/x-python",
   "name": "python",
   "nbconvert_exporter": "python",
   "pygments_lexer": "ipython3",
   "version": "3.9.1-final"
  },
  "orig_nbformat": 2,
  "kernelspec": {
   "name": "python3",
   "display_name": "Python 3",
   "language": "python"
  }
 },
 "nbformat": 4,
 "nbformat_minor": 2,
 "cells": [
  {
   "cell_type": "code",
   "execution_count": 1,
   "metadata": {},
   "outputs": [],
   "source": [
    "from __future__  import annotations\n",
    "from collections import Counter, defaultdict, namedtuple, deque\n",
    "from itertools   import permutations, combinations, cycle, product, islice, chain\n",
    "from functools   import lru_cache\n",
    "from typing      import Dict, Tuple, Set, List, Iterator, Optional\n",
    "from sys         import maxsize\n",
    "\n",
    "import re\n",
    "import ast\n",
    "import operator\n",
    "\n",
    "import numpy as np"
   ]
  },
  {
   "cell_type": "code",
   "execution_count": 2,
   "metadata": {},
   "outputs": [],
   "source": [
    "def read_data(input: str, parser=str, sep='\\n', testing=False) -> list:\n",
    "    if testing:\n",
    "        sections = input.split(sep)\n",
    "    else:\n",
    "        sections = open(input).read().split(sep)\n",
    "    return [parser(section) for section in sections]"
   ]
  },
  {
   "cell_type": "code",
   "execution_count": 3,
   "metadata": {},
   "outputs": [],
   "source": [
    "test_string = \"\"\"0,3,6\"\"\""
   ]
  },
  {
   "cell_type": "code",
   "execution_count": 4,
   "metadata": {},
   "outputs": [
    {
     "output_type": "stream",
     "name": "stdout",
     "text": [
      "[0, 3, 6]\n"
     ]
    }
   ],
   "source": [
    "test_ins = read_data(test_string, parser=int, sep=\",\", testing=True)\n",
    "\n",
    "print(test_ins)"
   ]
  },
  {
   "source": [
    "Part I  \n",
    "\n",
    "Given your starting numbers, what will be the 2020th number spoken?"
   ],
   "cell_type": "markdown",
   "metadata": {}
  },
  {
   "cell_type": "code",
   "execution_count": 5,
   "metadata": {
    "tags": []
   },
   "outputs": [],
   "source": [
    "def run_part1(ins: List[int], end: int) -> int:\n",
    "    num_tracker = defaultdict(int, {v: k + 1 for k, v in enumerate(ins)})\n",
    "    last_num = ins[-1]\n",
    "\n",
    "    for idx in range(len(ins), end):\n",
    "        if last_num in num_tracker:\n",
    "            curr_num = idx - num_tracker[last_num]\n",
    "        else:\n",
    "            curr_num = 0\n",
    "        num_tracker[last_num] = idx\n",
    "        last_num = curr_num\n",
    "\n",
    "    return last_num"
   ]
  },
  {
   "source": [
    "assert run_part1(test_ins, 2020) == 436"
   ],
   "cell_type": "code",
   "metadata": {},
   "execution_count": 6,
   "outputs": []
  },
  {
   "cell_type": "code",
   "execution_count": 7,
   "metadata": {},
   "outputs": [
    {
     "output_type": "execute_result",
     "data": {
      "text/plain": [
       "610"
      ]
     },
     "metadata": {},
     "execution_count": 7
    }
   ],
   "source": [
    "real_ins = read_data(\"input.txt\", parser=int, sep=',')\n",
    "run_part1(real_ins, 2020)"
   ]
  },
  {
   "source": [
    "Part II\n",
    "\n",
    "Given your starting numbers, what will be the 30000000th number spoken?"
   ],
   "cell_type": "markdown",
   "metadata": {}
  },
  {
   "cell_type": "code",
   "execution_count": 8,
   "metadata": {
    "tags": []
   },
   "outputs": [],
   "source": [
    "assert run_part1(test_ins, 30000000) == 175594"
   ]
  },
  {
   "cell_type": "code",
   "execution_count": 9,
   "metadata": {},
   "outputs": [
    {
     "output_type": "stream",
     "name": "stdout",
     "text": [
      "CPU times: user 8.32 s, sys: 149 ms, total: 8.47 s\nWall time: 8.48 s\n"
     ]
    },
    {
     "output_type": "execute_result",
     "data": {
      "text/plain": [
       "1407"
      ]
     },
     "metadata": {},
     "execution_count": 9
    }
   ],
   "source": [
    "%time run_part1(real_ins, 30000000)"
   ]
  },
  {
   "cell_type": "code",
   "execution_count": null,
   "metadata": {},
   "outputs": [],
   "source": []
  }
 ]
}