{
 "metadata": {
  "language_info": {
   "codemirror_mode": {
    "name": "ipython",
    "version": 3
   },
   "file_extension": ".py",
   "mimetype": "text/x-python",
   "name": "python",
   "nbconvert_exporter": "python",
   "pygments_lexer": "ipython3",
   "version": "3.9.1-final"
  },
  "orig_nbformat": 2,
  "kernelspec": {
   "name": "python3",
   "display_name": "Python 3",
   "language": "python"
  }
 },
 "nbformat": 4,
 "nbformat_minor": 2,
 "cells": [
  {
   "cell_type": "code",
   "execution_count": 1,
   "metadata": {},
   "outputs": [],
   "source": [
    "from __future__  import annotations\n",
    "from collections import Counter, defaultdict, namedtuple, deque\n",
    "from itertools   import permutations, combinations, cycle, product, islice, chain\n",
    "from functools   import lru_cache\n",
    "from typing      import Dict, Tuple, Set, List, Iterator, Optional\n",
    "from sys         import maxsize\n",
    "\n",
    "import re\n",
    "import ast\n",
    "import operator\n",
    "\n",
    "import numpy as np"
   ]
  },
  {
   "cell_type": "code",
   "execution_count": 2,
   "metadata": {},
   "outputs": [],
   "source": [
    "def read_data(input: str, parser=str, sep='\\n', testing=False) -> list:\n",
    "    if testing:\n",
    "        sections = input.split(sep)\n",
    "    else:\n",
    "        sections = open(input).read().split(sep)\n",
    "    return [parser(section) for section in sections]"
   ]
  },
  {
   "cell_type": "code",
   "execution_count": 3,
   "metadata": {},
   "outputs": [],
   "source": [
    "string = \"\"\"939\n",
    "7,13,x,x,59,x,31,19\"\"\""
   ]
  },
  {
   "cell_type": "code",
   "execution_count": 4,
   "metadata": {},
   "outputs": [
    {
     "output_type": "stream",
     "name": "stdout",
     "text": [
      "939 [(0, 7), (1, 13), (4, 59), (6, 31), (7, 19)]\n"
     ]
    }
   ],
   "source": [
    "def parse_buses(bus_data: List[str]):\n",
    "    if 'x' in bus_data:\n",
    "        # scan for digits and 'x's\n",
    "        all_buses = re.findall(r'([\\dx]+)', bus_data)\n",
    "        return [(idx, int(bus)) for idx, bus in enumerate(all_buses) if bus not in 'x']\n",
    "    return int(bus_data)\n",
    "test_wt, test_buses = read_data(string, parser=parse_buses, sep=\"\\n\", testing=True)\n",
    "\n",
    "print(test_wt, test_buses)\n",
    "\n"
   ]
  },
  {
   "source": [
    "Part I  \n",
    "\n",
    "What is the ID of the earliest bus you can take to the airport multiplied by the number of minutes you'll need to wait for that bus?"
   ],
   "cell_type": "markdown",
   "metadata": {}
  },
  {
   "cell_type": "code",
   "execution_count": 5,
   "metadata": {
    "tags": []
   },
   "outputs": [],
   "source": [
    "def run_part1(wait_time: int, buses: List[Tuple[int, int]]) -> int:\n",
    "    start = wait_time\n",
    "    while True:\n",
    "        for idx, bus in buses:\n",
    "            if start % bus == 0:\n",
    "                return bus * (start - wait_time)\n",
    "        start += 1\n",
    "    return None"
   ]
  },
  {
   "source": [
    "run_part1(test_wt, test_buses)"
   ],
   "cell_type": "code",
   "metadata": {},
   "execution_count": 6,
   "outputs": [
    {
     "output_type": "execute_result",
     "data": {
      "text/plain": [
       "295"
      ]
     },
     "metadata": {},
     "execution_count": 6
    }
   ]
  },
  {
   "cell_type": "code",
   "execution_count": 7,
   "metadata": {},
   "outputs": [
    {
     "output_type": "execute_result",
     "data": {
      "text/plain": [
       "2092"
      ]
     },
     "metadata": {},
     "execution_count": 7
    }
   ],
   "source": [
    "real_wt, real_buses = read_data(\"input.txt\", parser=parse_buses)\n",
    "run_part1(real_wt, real_buses)"
   ]
  },
  {
   "source": [
    "Part II\n",
    "\n",
    "What is the earliest timestamp such that all of the listed bus IDs depart at offsets matching their positions in the list?"
   ],
   "cell_type": "markdown",
   "metadata": {}
  },
  {
   "cell_type": "code",
   "execution_count": 8,
   "metadata": {
    "tags": []
   },
   "outputs": [],
   "source": [
    "import math\n",
    "\n",
    "def run_part2(buses: List[Tuple[int, int]]) -> int:\n",
    "    time = 0\n",
    "    step = 1\n",
    "    for idx, bus in buses:\n",
    "        while (time + idx) % bus != 0:\n",
    "            time += step\n",
    "        step = math.lcm(step, bus)\n",
    "    return time\n"
   ]
  },
  {
   "cell_type": "code",
   "execution_count": 9,
   "metadata": {},
   "outputs": [
    {
     "output_type": "execute_result",
     "data": {
      "text/plain": [
       "1068781"
      ]
     },
     "metadata": {},
     "execution_count": 9
    }
   ],
   "source": [
    "run_part2(test_buses)"
   ]
  },
  {
   "cell_type": "code",
   "execution_count": 10,
   "metadata": {},
   "outputs": [
    {
     "output_type": "execute_result",
     "data": {
      "text/plain": [
       "702970661767766"
      ]
     },
     "metadata": {},
     "execution_count": 10
    }
   ],
   "source": [
    "run_part2(real_buses)"
   ]
  },
  {
   "cell_type": "code",
   "execution_count": null,
   "metadata": {},
   "outputs": [],
   "source": []
  }
 ]
}