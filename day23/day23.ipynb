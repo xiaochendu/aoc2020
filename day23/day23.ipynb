{
 "metadata": {
  "language_info": {
   "codemirror_mode": {
    "name": "ipython",
    "version": 3
   },
   "file_extension": ".py",
   "mimetype": "text/x-python",
   "name": "python",
   "nbconvert_exporter": "python",
   "pygments_lexer": "ipython3",
   "version": "3.9.1-final"
  },
  "orig_nbformat": 2,
  "kernelspec": {
   "name": "python3",
   "display_name": "Python 3",
   "language": "python"
  }
 },
 "nbformat": 4,
 "nbformat_minor": 2,
 "cells": [
  {
   "cell_type": "code",
   "execution_count": 2,
   "metadata": {},
   "outputs": [],
   "source": [
    "from __future__  import annotations\n",
    "from collections import Counter, defaultdict, namedtuple, deque\n",
    "from itertools   import permutations, combinations, cycle, product, islice, chain\n",
    "from functools   import lru_cache\n",
    "from typing      import Dict, Tuple, Set, List, Iterator, Optional\n",
    "from sys         import maxsize\n",
    "\n",
    "import re\n",
    "import ast\n",
    "import operator\n",
    "\n",
    "import numpy as np"
   ]
  },
  {
   "cell_type": "code",
   "execution_count": 3,
   "metadata": {},
   "outputs": [],
   "source": [
    "def read_data(input: str, parser=str, sep='\\n', testing=False) -> list:\n",
    "    if testing:\n",
    "        sections = input.split(sep)\n",
    "    else:\n",
    "        sections = open(input).read().split(sep)\n",
    "    return [parser(section) for section in sections]"
   ]
  },
  {
   "cell_type": "code",
   "execution_count": 4,
   "metadata": {},
   "outputs": [],
   "source": [
    "test_string = \"389125467\"\n",
    "test_ins = read_data(test_string, parser=str, sep=None, testing=True)"
   ]
  },
  {
   "cell_type": "code",
   "execution_count": 61,
   "metadata": {},
   "outputs": [],
   "source": [
    "def run_part1(ins: List[str], num_iters=100) -> int:\n",
    "    cups = list(int(x) for x in chain(*ins))\n",
    "    curr_set = set(sorted(cups, reverse=True))\n",
    "    # print(\"cups in order are \", cups)\n",
    "    # print(\"cups set \", curr_set)\n",
    "\n",
    "    for _ in range(num_iters):\n",
    "        curr_cup = cups.pop(0)\n",
    "        picked_cups = [cups.pop(0) for _ in range(3)]\n",
    "        iter_cups = sorted(curr_set - set(picked_cups), reverse=True)\n",
    "\n",
    "        # print(\"curr cup\", curr_cup)\n",
    "        # print(\"picked cups\", picked_cups)\n",
    "        # print(\"iter cups\", iter_cups)\n",
    "\n",
    "        # print(\"remaining\", cups)\n",
    "        \n",
    "        destination = get_next(iter_cups, curr_cup)\n",
    "        # print(\"destination\", destination)\n",
    "        insert_pt = cups.index(destination) + 1\n",
    "        # print(\"insert pt\", insert_pt)\n",
    "\n",
    "        cups = cups[:insert_pt] + picked_cups + cups[insert_pt:] + [curr_cup]\n",
    "        # print(\"new order\", cups)\n",
    "    \n",
    "    one_idx = cups.index(1)\n",
    "    cups_order = cups[one_idx+1:] + cups[:one_idx]\n",
    "    return int(\"\".join(map(str, cups_order)))\n",
    "\n",
    "def get_next(ins: List[int], starts_with: int) -> int:\n",
    "    '''returns destination cup'''\n",
    "    ins = deque(ins)\n",
    "    # move to the starts with number\n",
    "    while ins[0] != starts_with:\n",
    "        ins.rotate(-1)\n",
    "    # move current number to the back\n",
    "    ins.rotate(-1)\n",
    "    return ins[0]"
   ]
  },
  {
   "cell_type": "code",
   "execution_count": 63,
   "metadata": {},
   "outputs": [
    {
     "output_type": "execute_result",
     "data": {
      "text/plain": [
       "67384529"
      ]
     },
     "metadata": {},
     "execution_count": 63
    }
   ],
   "source": [
    "run_part1(test_ins, num_iters=100)"
   ]
  },
  {
   "source": [
    "Part I  \n",
    "\n",
    "Using your labeling, simulate 100 moves. What are the labels on the cups after cup 1?"
   ],
   "cell_type": "markdown",
   "metadata": {}
  },
  {
   "cell_type": "code",
   "execution_count": 64,
   "metadata": {},
   "outputs": [
    {
     "output_type": "execute_result",
     "data": {
      "text/plain": [
       "72496583"
      ]
     },
     "metadata": {},
     "execution_count": 64
    }
   ],
   "source": [
    "real_ins = read_data(\"input.txt\", parser=str, sep=None)\n",
    "run_part1(real_ins)"
   ]
  },
  {
   "source": [
    "Part II\n",
    "\n",
    "Determine which two cups will end up immediately clockwise of cup 1. What do you get if you multiply their labels together?"
   ],
   "cell_type": "markdown",
   "metadata": {}
  },
  {
   "cell_type": "code",
   "execution_count": 194,
   "metadata": {},
   "outputs": [],
   "source": [
    "class Deque(deque):\n",
    "    def split_at(self, idx: int):\n",
    "        left = Deque()\n",
    "        for _ in range(idx):\n",
    "            left.append(self.popleft())\n",
    "        return left, self\n",
    "\n",
    "def run_part2(ins: List[str], num_iters=100, total_nums=10) -> int:\n",
    "    cups = Deque(int(x) for x in chain(*ins))\n",
    "    print(cups)\n",
    "    if total_nums > 10:\n",
    "        extra = Deque(range(11, total_nums + 1))\n",
    "        extra.extendleft(reversed(cups))\n",
    "        cups = extra\n",
    "        print(list(islice(cups, 0, total_nums)))\n",
    "    curr_set = Deque(sorted(cups, reverse=True))\n",
    "    # print(\"cups in order are \", cups)\n",
    "    # print(\"cups set \", curr_set)\n",
    "\n",
    "    for i in range(num_iters):\n",
    "        if i % 100000 == 0:\n",
    "            print(i, \"out of\", num_iters)\n",
    "        # need pop with O(1)\n",
    "        curr_cup = cups.popleft()\n",
    "        picked_cups = Deque([cups.popleft() for _ in range(3)])\n",
    "        # iter_cups = sorted(curr_set - set(picked_cups), reverse=True)\n",
    "\n",
    "        # print(\"curr cup\", curr_cup)\n",
    "        # print(\"picked cups\", picked_cups)\n",
    "        # print(\"iter cups\", iter_cups)\n",
    "\n",
    "        # print(\"remaining\", cups)\n",
    "        \n",
    "        destination = get_next2(curr_set, picked_cups, curr_cup)\n",
    "        # print(\"destination\", destination)\n",
    "        insert_pt = cups.index(destination) + 1\n",
    "        # print(\"insert pt\", insert_pt)\n",
    "\n",
    "        # O(1) insertion method\n",
    "        left, right = cups.split_at(insert_pt)\n",
    "        left.extend(picked_cups)\n",
    "        right.append(curr_cup)\n",
    "        right.extendleft(reversed(left))\n",
    "        # right.appendleft(dest_cup)\n",
    "        cups  = right\n",
    "        # cups = cups, 0, insert_pt) + picked_cups + islice(cups, insert_pt, -1) + [curr_cup]\n",
    "        # print(\"new order\", cups)\n",
    "    \n",
    "    one_idx = cups.index(1)\n",
    "    cups_order = list(islice(cups, one_idx+1, None)) + list(islice(cups, 0, one_idx))\n",
    "    return int(\"\".join(map(str, cups_order)))\n",
    "\n",
    "def get_next2(ins: List[int], excluded: List[int], starts_with: int) -> int:\n",
    "    '''returns destination cup\n",
    "    takes in a deques as ins'''\n",
    "    # print(\"in getting next\")\n",
    "    # print(ins, excluded, starts_with)\n",
    "\n",
    "    # move to the starts with number\n",
    "    while ins[0] != starts_with:\n",
    "        # print(ins)\n",
    "        ins.rotate(-1)\n",
    "    # move current number to the back\n",
    "    ins.rotate(-1)\n",
    "    while ins[0] in excluded:\n",
    "        ins.rotate(-1)\n",
    "    return ins[0]"
   ]
  },
  {
   "cell_type": "code",
   "execution_count": 195,
   "metadata": {
    "tags": []
   },
   "outputs": [],
   "source": [
    "# %%timeit\n",
    "# run_part2(test_ins, num_iters=int(10e6))"
   ]
  },
  {
   "cell_type": "code",
   "execution_count": null,
   "metadata": {},
   "outputs": [],
   "source": [
    "run_part2(test_ins, num_iters=int(10e6), total_nums=1000)"
   ]
  },
  {
   "source": [
    "crap still not fast enough: 21.3 s with crazy method"
   ],
   "cell_type": "markdown",
   "metadata": {}
  },
  {
   "source": [
    "Took 22 seconds with the regular method"
   ],
   "cell_type": "markdown",
   "metadata": {}
  },
  {
   "source": [
    "run_part2(test_ins, num_iters=int(10e6), total_nums=1000)"
   ],
   "cell_type": "code",
   "metadata": {
    "tags": []
   },
   "execution_count": 197,
   "outputs": [
    {
     "output_type": "stream",
     "name": "stdout",
     "text": [
      "Deque([3, 8, 9, 1, 2, 5, 4, 6, 7])\n",
      "[3, 8, 9, 1, 2, 5, 4, 6, 7, 11, 12, 13, 14, 15, 16, 17, 18, 19, 20, 21, 22, 23, 24, 25, 26, 27, 28, 29, 30, 31, 32, 33, 34, 35, 36, 37, 38, 39, 40, 41, 42, 43, 44, 45, 46, 47, 48, 49, 50, 51, 52, 53, 54, 55, 56, 57, 58, 59, 60, 61, 62, 63, 64, 65, 66, 67, 68, 69, 70, 71, 72, 73, 74, 75, 76, 77, 78, 79, 80, 81, 82, 83, 84, 85, 86, 87, 88, 89, 90, 91, 92, 93, 94, 95, 96, 97, 98, 99, 100, 101, 102, 103, 104, 105, 106, 107, 108, 109, 110, 111, 112, 113, 114, 115, 116, 117, 118, 119, 120, 121, 122, 123, 124, 125, 126, 127, 128, 129, 130, 131, 132, 133, 134, 135, 136, 137, 138, 139, 140, 141, 142, 143, 144, 145, 146, 147, 148, 149, 150, 151, 152, 153, 154, 155, 156, 157, 158, 159, 160, 161, 162, 163, 164, 165, 166, 167, 168, 169, 170, 171, 172, 173, 174, 175, 176, 177, 178, 179, 180, 181, 182, 183, 184, 185, 186, 187, 188, 189, 190, 191, 192, 193, 194, 195, 196, 197, 198, 199, 200, 201, 202, 203, 204, 205, 206, 207, 208, 209, 210, 211, 212, 213, 214, 215, 216, 217, 218, 219, 220, 221, 222, 223, 224, 225, 226, 227, 228, 229, 230, 231, 232, 233, 234, 235, 236, 237, 238, 239, 240, 241, 242, 243, 244, 245, 246, 247, 248, 249, 250, 251, 252, 253, 254, 255, 256, 257, 258, 259, 260, 261, 262, 263, 264, 265, 266, 267, 268, 269, 270, 271, 272, 273, 274, 275, 276, 277, 278, 279, 280, 281, 282, 283, 284, 285, 286, 287, 288, 289, 290, 291, 292, 293, 294, 295, 296, 297, 298, 299, 300, 301, 302, 303, 304, 305, 306, 307, 308, 309, 310, 311, 312, 313, 314, 315, 316, 317, 318, 319, 320, 321, 322, 323, 324, 325, 326, 327, 328, 329, 330, 331, 332, 333, 334, 335, 336, 337, 338, 339, 340, 341, 342, 343, 344, 345, 346, 347, 348, 349, 350, 351, 352, 353, 354, 355, 356, 357, 358, 359, 360, 361, 362, 363, 364, 365, 366, 367, 368, 369, 370, 371, 372, 373, 374, 375, 376, 377, 378, 379, 380, 381, 382, 383, 384, 385, 386, 387, 388, 389, 390, 391, 392, 393, 394, 395, 396, 397, 398, 399, 400, 401, 402, 403, 404, 405, 406, 407, 408, 409, 410, 411, 412, 413, 414, 415, 416, 417, 418, 419, 420, 421, 422, 423, 424, 425, 426, 427, 428, 429, 430, 431, 432, 433, 434, 435, 436, 437, 438, 439, 440, 441, 442, 443, 444, 445, 446, 447, 448, 449, 450, 451, 452, 453, 454, 455, 456, 457, 458, 459, 460, 461, 462, 463, 464, 465, 466, 467, 468, 469, 470, 471, 472, 473, 474, 475, 476, 477, 478, 479, 480, 481, 482, 483, 484, 485, 486, 487, 488, 489, 490, 491, 492, 493, 494, 495, 496, 497, 498, 499, 500, 501, 502, 503, 504, 505, 506, 507, 508, 509, 510, 511, 512, 513, 514, 515, 516, 517, 518, 519, 520, 521, 522, 523, 524, 525, 526, 527, 528, 529, 530, 531, 532, 533, 534, 535, 536, 537, 538, 539, 540, 541, 542, 543, 544, 545, 546, 547, 548, 549, 550, 551, 552, 553, 554, 555, 556, 557, 558, 559, 560, 561, 562, 563, 564, 565, 566, 567, 568, 569, 570, 571, 572, 573, 574, 575, 576, 577, 578, 579, 580, 581, 582, 583, 584, 585, 586, 587, 588, 589, 590, 591, 592, 593, 594, 595, 596, 597, 598, 599, 600, 601, 602, 603, 604, 605, 606, 607, 608, 609, 610, 611, 612, 613, 614, 615, 616, 617, 618, 619, 620, 621, 622, 623, 624, 625, 626, 627, 628, 629, 630, 631, 632, 633, 634, 635, 636, 637, 638, 639, 640, 641, 642, 643, 644, 645, 646, 647, 648, 649, 650, 651, 652, 653, 654, 655, 656, 657, 658, 659, 660, 661, 662, 663, 664, 665, 666, 667, 668, 669, 670, 671, 672, 673, 674, 675, 676, 677, 678, 679, 680, 681, 682, 683, 684, 685, 686, 687, 688, 689, 690, 691, 692, 693, 694, 695, 696, 697, 698, 699, 700, 701, 702, 703, 704, 705, 706, 707, 708, 709, 710, 711, 712, 713, 714, 715, 716, 717, 718, 719, 720, 721, 722, 723, 724, 725, 726, 727, 728, 729, 730, 731, 732, 733, 734, 735, 736, 737, 738, 739, 740, 741, 742, 743, 744, 745, 746, 747, 748, 749, 750, 751, 752, 753, 754, 755, 756, 757, 758, 759, 760, 761, 762, 763, 764, 765, 766, 767, 768, 769, 770, 771, 772, 773, 774, 775, 776, 777, 778, 779, 780, 781, 782, 783, 784, 785, 786, 787, 788, 789, 790, 791, 792, 793, 794, 795, 796, 797, 798, 799, 800, 801, 802, 803, 804, 805, 806, 807, 808, 809, 810, 811, 812, 813, 814, 815, 816, 817, 818, 819, 820, 821, 822, 823, 824, 825, 826, 827, 828, 829, 830, 831, 832, 833, 834, 835, 836, 837, 838, 839, 840, 841, 842, 843, 844, 845, 846, 847, 848, 849, 850, 851, 852, 853, 854, 855, 856, 857, 858, 859, 860, 861, 862, 863, 864, 865, 866, 867, 868, 869, 870, 871, 872, 873, 874, 875, 876, 877, 878, 879, 880, 881, 882, 883, 884, 885, 886, 887, 888, 889, 890, 891, 892, 893, 894, 895, 896, 897, 898, 899, 900, 901, 902, 903, 904, 905, 906, 907, 908, 909, 910, 911, 912, 913, 914, 915, 916, 917, 918, 919, 920, 921, 922, 923, 924, 925, 926, 927, 928, 929, 930, 931, 932, 933, 934, 935, 936, 937, 938, 939, 940, 941, 942, 943, 944, 945, 946, 947, 948, 949, 950, 951, 952, 953, 954, 955, 956, 957, 958, 959, 960, 961, 962, 963, 964, 965, 966, 967, 968, 969, 970, 971, 972, 973, 974, 975, 976, 977, 978, 979, 980, 981, 982, 983, 984, 985, 986, 987, 988, 989, 990, 991, 992, 993, 994, 995, 996, 997, 998, 999, 1000]\n",
      "0 out of 10000000\n",
      "100000 out of 10000000\n"
     ]
    },
    {
     "output_type": "error",
     "ename": "KeyboardInterrupt",
     "evalue": "",
     "traceback": [
      "\u001b[0;31m---------------------------------------------------------------------------\u001b[0m",
      "\u001b[0;31mKeyboardInterrupt\u001b[0m                         Traceback (most recent call last)",
      "\u001b[0;32m<ipython-input-197-5f870dde4b14>\u001b[0m in \u001b[0;36m<module>\u001b[0;34m\u001b[0m\n\u001b[0;32m----> 1\u001b[0;31m \u001b[0mrun_part2\u001b[0m\u001b[0;34m(\u001b[0m\u001b[0mtest_ins\u001b[0m\u001b[0;34m,\u001b[0m \u001b[0mnum_iters\u001b[0m\u001b[0;34m=\u001b[0m\u001b[0mint\u001b[0m\u001b[0;34m(\u001b[0m\u001b[0;36m10e6\u001b[0m\u001b[0;34m)\u001b[0m\u001b[0;34m,\u001b[0m \u001b[0mtotal_nums\u001b[0m\u001b[0;34m=\u001b[0m\u001b[0;36m1000\u001b[0m\u001b[0;34m)\u001b[0m\u001b[0;34m\u001b[0m\u001b[0;34m\u001b[0m\u001b[0m\n\u001b[0m",
      "\u001b[0;32m<ipython-input-194-fb452fadc526>\u001b[0m in \u001b[0;36mrun_part2\u001b[0;34m(ins, num_iters, total_nums)\u001b[0m\n\u001b[1;32m     32\u001b[0m         \u001b[0;31m# print(\"remaining\", cups)\u001b[0m\u001b[0;34m\u001b[0m\u001b[0;34m\u001b[0m\u001b[0;34m\u001b[0m\u001b[0m\n\u001b[1;32m     33\u001b[0m \u001b[0;34m\u001b[0m\u001b[0m\n\u001b[0;32m---> 34\u001b[0;31m         \u001b[0mdestination\u001b[0m \u001b[0;34m=\u001b[0m \u001b[0mget_next2\u001b[0m\u001b[0;34m(\u001b[0m\u001b[0mcurr_set\u001b[0m\u001b[0;34m,\u001b[0m \u001b[0mpicked_cups\u001b[0m\u001b[0;34m,\u001b[0m \u001b[0mcurr_cup\u001b[0m\u001b[0;34m)\u001b[0m\u001b[0;34m\u001b[0m\u001b[0;34m\u001b[0m\u001b[0m\n\u001b[0m\u001b[1;32m     35\u001b[0m         \u001b[0;31m# print(\"destination\", destination)\u001b[0m\u001b[0;34m\u001b[0m\u001b[0;34m\u001b[0m\u001b[0;34m\u001b[0m\u001b[0m\n\u001b[1;32m     36\u001b[0m         \u001b[0minsert_pt\u001b[0m \u001b[0;34m=\u001b[0m \u001b[0mcups\u001b[0m\u001b[0;34m.\u001b[0m\u001b[0mindex\u001b[0m\u001b[0;34m(\u001b[0m\u001b[0mdestination\u001b[0m\u001b[0;34m)\u001b[0m \u001b[0;34m+\u001b[0m \u001b[0;36m1\u001b[0m\u001b[0;34m\u001b[0m\u001b[0;34m\u001b[0m\u001b[0m\n",
      "\u001b[0;32m<ipython-input-194-fb452fadc526>\u001b[0m in \u001b[0;36mget_next2\u001b[0;34m(ins, excluded, starts_with)\u001b[0m\n\u001b[1;32m     60\u001b[0m     \u001b[0;32mwhile\u001b[0m \u001b[0mins\u001b[0m\u001b[0;34m[\u001b[0m\u001b[0;36m0\u001b[0m\u001b[0;34m]\u001b[0m \u001b[0;34m!=\u001b[0m \u001b[0mstarts_with\u001b[0m\u001b[0;34m:\u001b[0m\u001b[0;34m\u001b[0m\u001b[0;34m\u001b[0m\u001b[0m\n\u001b[1;32m     61\u001b[0m         \u001b[0;31m# print(ins)\u001b[0m\u001b[0;34m\u001b[0m\u001b[0;34m\u001b[0m\u001b[0;34m\u001b[0m\u001b[0m\n\u001b[0;32m---> 62\u001b[0;31m         \u001b[0mins\u001b[0m\u001b[0;34m.\u001b[0m\u001b[0mrotate\u001b[0m\u001b[0;34m(\u001b[0m\u001b[0;34m-\u001b[0m\u001b[0;36m1\u001b[0m\u001b[0;34m)\u001b[0m\u001b[0;34m\u001b[0m\u001b[0;34m\u001b[0m\u001b[0m\n\u001b[0m\u001b[1;32m     63\u001b[0m     \u001b[0;31m# move current number to the back\u001b[0m\u001b[0;34m\u001b[0m\u001b[0;34m\u001b[0m\u001b[0;34m\u001b[0m\u001b[0m\n\u001b[1;32m     64\u001b[0m     \u001b[0mins\u001b[0m\u001b[0;34m.\u001b[0m\u001b[0mrotate\u001b[0m\u001b[0;34m(\u001b[0m\u001b[0;34m-\u001b[0m\u001b[0;36m1\u001b[0m\u001b[0;34m)\u001b[0m\u001b[0;34m\u001b[0m\u001b[0;34m\u001b[0m\u001b[0m\n",
      "\u001b[0;31mKeyboardInterrupt\u001b[0m: "
     ]
    }
   ]
  },
  {
   "cell_type": "code",
   "execution_count": 160,
   "metadata": {
    "tags": []
   },
   "outputs": [
    {
     "output_type": "execute_result",
     "data": {
      "text/plain": [
       "67384529"
      ]
     },
     "metadata": {},
     "execution_count": 160
    }
   ],
   "source": [
    "run_part2(test_ins, num_iters=int(100))"
   ]
  },
  {
   "cell_type": "code",
   "execution_count": 100,
   "metadata": {
    "tags": []
   },
   "outputs": [],
   "source": [
    "# run_part2(real_ins)"
   ]
  },
  {
   "source": [],
   "cell_type": "markdown",
   "metadata": {}
  }
 ]
}