{
 "metadata": {
  "language_info": {
   "codemirror_mode": {
    "name": "ipython",
    "version": 3
   },
   "file_extension": ".py",
   "mimetype": "text/x-python",
   "name": "python",
   "nbconvert_exporter": "python",
   "pygments_lexer": "ipython3",
   "version": "3.9.1-final"
  },
  "orig_nbformat": 2,
  "kernelspec": {
   "name": "python3",
   "display_name": "Python 3",
   "language": "python"
  }
 },
 "nbformat": 4,
 "nbformat_minor": 2,
 "cells": [
  {
   "cell_type": "code",
   "execution_count": 1,
   "metadata": {},
   "outputs": [],
   "source": [
    "from __future__  import annotations\n",
    "from collections import Counter, defaultdict, namedtuple, deque\n",
    "from itertools   import permutations, combinations, cycle, product, islice, chain\n",
    "from functools   import lru_cache\n",
    "from typing      import Dict, Tuple, Set, List, Iterator, Optional\n",
    "from sys         import maxsize\n",
    "\n",
    "import re\n",
    "import ast\n",
    "import operator\n",
    "\n",
    "import numpy as np"
   ]
  },
  {
   "cell_type": "code",
   "execution_count": 2,
   "metadata": {},
   "outputs": [],
   "source": [
    "def read_data(input: str, parser=str, sep='\\n', testing=False) -> list:\n",
    "    if testing:\n",
    "        sections = input.split(sep)\n",
    "    else:\n",
    "        sections = open(input).read().split(sep)\n",
    "    return [parser(section) for section in sections]"
   ]
  },
  {
   "cell_type": "code",
   "execution_count": 3,
   "metadata": {},
   "outputs": [],
   "source": [
    "string = \"\"\"mask = XXXXXXXXXXXXXXXXXXXXXXXXXXXXX1XXXX0X\n",
    "mem[8] = 11\n",
    "mem[7] = 101\n",
    "mem[8] = 0\"\"\""
   ]
  },
  {
   "cell_type": "code",
   "execution_count": 4,
   "metadata": {},
   "outputs": [
    {
     "output_type": "stream",
     "name": "stdout",
     "text": [
      "[('mask', 'XXXXXXXXXXXXXXXXXXXXXXXXXXXXX1XXXX0X'), [8, 11], [7, 101], [8, 0]]\n"
     ]
    }
   ],
   "source": [
    "def parse_ins(ins: List[str]):\n",
    "    if 'mask' in ins:\n",
    "        return 'mask', ins.split(\"=\")[-1].strip()\n",
    "        # mask instruction\n",
    "    return list(int(x) for x in re.findall(r'\\d+', ins))\n",
    "test_ins = read_data(string, parser=parse_ins, sep=\"\\n\", testing=True)\n",
    "\n",
    "print(test_ins)\n",
    "\n"
   ]
  },
  {
   "cell_type": "code",
   "execution_count": 5,
   "metadata": {},
   "outputs": [
    {
     "output_type": "execute_result",
     "data": {
      "text/plain": [
       "True"
      ]
     },
     "metadata": {},
     "execution_count": 5
    }
   ],
   "source": [
    "type('mask') == str"
   ]
  },
  {
   "source": [
    "Part I  \n",
    "\n",
    "Execute the initialization program. What is the sum of all values left in memory after it completes? (Do not truncate the sum to 36 bits.)"
   ],
   "cell_type": "markdown",
   "metadata": {}
  },
  {
   "cell_type": "code",
   "execution_count": 6,
   "metadata": {
    "tags": []
   },
   "outputs": [],
   "source": [
    "def int_to_bin36(val: int) -> str:\n",
    "    return \"{:036b}\".format(val)\n",
    "\n",
    "def process_mask(mask: str, val: int) -> int:\n",
    "    output = ''\n",
    "    for m, v in zip(mask, int_to_bin36(val)):\n",
    "        if m != 'X':\n",
    "            output += m\n",
    "        else:\n",
    "            output += v\n",
    "    return int(output, base=2)\n",
    "\n",
    "def run_part1(ins: Tuple[obj, obj]) -> int:\n",
    "    mask = ''\n",
    "    mem = defaultdict(int)\n",
    "    for header, val in ins:\n",
    "        if type(header) == str:\n",
    "            mask = val\n",
    "        else:\n",
    "            mem[header] = process_mask(mask, val)\n",
    "    return sum(mem.values())"
   ]
  },
  {
   "source": [
    "run_part1(test_ins)"
   ],
   "cell_type": "code",
   "metadata": {},
   "execution_count": 7,
   "outputs": [
    {
     "output_type": "execute_result",
     "data": {
      "text/plain": [
       "165"
      ]
     },
     "metadata": {},
     "execution_count": 7
    }
   ]
  },
  {
   "cell_type": "code",
   "execution_count": 8,
   "metadata": {},
   "outputs": [
    {
     "output_type": "execute_result",
     "data": {
      "text/plain": [
       "4886706177792"
      ]
     },
     "metadata": {},
     "execution_count": 8
    }
   ],
   "source": [
    "real_ins = read_data(\"input.txt\", parser=parse_ins)\n",
    "run_part1(real_ins)"
   ]
  },
  {
   "source": [
    "Part II\n",
    "\n",
    "Execute the initialization program using an emulator for a version 2 decoder chip. What is the sum of all values left in memory after it completes?"
   ],
   "cell_type": "markdown",
   "metadata": {}
  },
  {
   "cell_type": "code",
   "execution_count": 9,
   "metadata": {
    "tags": []
   },
   "outputs": [],
   "source": [
    "def process_mask2(mask: str, header: int) -> int:\n",
    "    template = ''\n",
    "    for m, v in zip(mask, int_to_bin36(header)):\n",
    "        if m == 'X':\n",
    "            template += '{}'\n",
    "        elif m == '0':\n",
    "            template += v\n",
    "        else:\n",
    "            template += '1'\n",
    "    return [int(template.format(*perm), base=2) for perm in product('01', repeat=template.count('{}'))]\n",
    "\n",
    "def run_part2(ins: Tuple[obj, obj]) -> int:\n",
    "    mask = ''\n",
    "    mem = defaultdict(int)\n",
    "    for header, val in ins:\n",
    "        if type(header) == str:\n",
    "            mask = val\n",
    "        else:\n",
    "            addrs = process_mask2(mask, header)\n",
    "            for addr in addrs:\n",
    "                mem[addr] = val\n",
    "    return sum(mem.values())\n"
   ]
  },
  {
   "cell_type": "code",
   "execution_count": 10,
   "metadata": {},
   "outputs": [
    {
     "output_type": "stream",
     "name": "stdout",
     "text": [
      "[('mask', '000000000000000000000000000000X1001X'), [42, 100], ('mask', '00000000000000000000000000000000X0XX'), [26, 1]]\n"
     ]
    }
   ],
   "source": [
    "string2 = '''mask = 000000000000000000000000000000X1001X\n",
    "mem[42] = 100\n",
    "mask = 00000000000000000000000000000000X0XX\n",
    "mem[26] = 1'''\n",
    "\n",
    "test_ins2 = read_data(string2, parser=parse_ins, sep=\"\\n\", testing=True)\n",
    "\n",
    "print(test_ins2)"
   ]
  },
  {
   "cell_type": "code",
   "execution_count": 11,
   "metadata": {},
   "outputs": [
    {
     "output_type": "execute_result",
     "data": {
      "text/plain": [
       "208"
      ]
     },
     "metadata": {},
     "execution_count": 11
    }
   ],
   "source": [
    "run_part2(test_ins2)"
   ]
  },
  {
   "cell_type": "code",
   "execution_count": 12,
   "metadata": {},
   "outputs": [
    {
     "output_type": "execute_result",
     "data": {
      "text/plain": [
       "3348493585827"
      ]
     },
     "metadata": {},
     "execution_count": 12
    }
   ],
   "source": [
    "run_part2(real_ins)"
   ]
  },
  {
   "cell_type": "code",
   "execution_count": null,
   "metadata": {},
   "outputs": [],
   "source": []
  }
 ]
}