{
 "metadata": {
  "language_info": {
   "codemirror_mode": {
    "name": "ipython",
    "version": 3
   },
   "file_extension": ".py",
   "mimetype": "text/x-python",
   "name": "python",
   "nbconvert_exporter": "python",
   "pygments_lexer": "ipython3",
   "version": "3.9.1-final"
  },
  "orig_nbformat": 2,
  "kernelspec": {
   "name": "python3",
   "display_name": "Python 3",
   "language": "python"
  }
 },
 "nbformat": 4,
 "nbformat_minor": 2,
 "cells": [
  {
   "source": [
    "Rewrite the code to make it look more professional"
   ],
   "cell_type": "markdown",
   "metadata": {}
  },
  {
   "cell_type": "code",
   "execution_count": 2,
   "metadata": {},
   "outputs": [],
   "source": [
    "from __future__  import annotations\n",
    "from collections import Counter, defaultdict, namedtuple, deque\n",
    "from itertools   import permutations, combinations, cycle, product, islice, chain\n",
    "from functools   import lru_cache\n",
    "from typing      import Dict, Tuple, Set, List, Iterator, Optional\n",
    "from sys         import maxsize\n",
    "\n",
    "import re\n",
    "import ast\n",
    "import operator\n",
    "\n",
    "import numpy as np"
   ]
  },
  {
   "cell_type": "code",
   "execution_count": 3,
   "metadata": {},
   "outputs": [],
   "source": [
    "def read_data(input: str, parser=str, sep='\\n', testing=False) -> list:\n",
    "    if testing:\n",
    "        sections = input.split(sep)\n",
    "    else:\n",
    "        sections = open(input).read().split(sep)\n",
    "    return [parser(section) for section in sections]"
   ]
  },
  {
   "cell_type": "code",
   "execution_count": 4,
   "metadata": {},
   "outputs": [],
   "source": [
    "test_string = \"\"\"Player 1:\n",
    "9\n",
    "2\n",
    "6\n",
    "3\n",
    "1\n",
    "\n",
    "Player 2:\n",
    "5\n",
    "8\n",
    "4\n",
    "7\n",
    "10\"\"\"\n",
    "test_ins = read_data(test_string, sep=\"\\n\\n\", testing=True)"
   ]
  },
  {
   "cell_type": "code",
   "execution_count": 5,
   "metadata": {},
   "outputs": [
    {
     "output_type": "execute_result",
     "data": {
      "text/plain": [
       "['Player 1:\\n9\\n2\\n6\\n3\\n1', 'Player 2:\\n5\\n8\\n4\\n7\\n10']"
      ]
     },
     "metadata": {},
     "execution_count": 5
    }
   ],
   "source": [
    "test_ins"
   ]
  },
  {
   "cell_type": "code",
   "execution_count": 57,
   "metadata": {},
   "outputs": [],
   "source": [
    "def run_part1(ins: List[str]) -> int:\n",
    "    player_1, player_2 = [deque(int(x) for x in re.sub(r\"Player \\d+:\\n\", \" \", card_group).split()) for card_group in ins]\n",
    "    while player_1 and player_2:\n",
    "        plays = list(x.popleft() for x in (player_1, player_2))\n",
    "        sorted_plays = sorted(plays, reverse=True)\n",
    "        player_1.extend(sorted_plays) if plays[0] > plays[1] else player_2.extend(sorted_plays)\n",
    "        # print(player_1, player_2)\n",
    "\n",
    "    winner = player_2 if len(player_1) == 0 else player_1\n",
    "    return sum(idx*val for idx, val in enumerate(reversed(winner), 1))"
   ]
  },
  {
   "cell_type": "code",
   "execution_count": 58,
   "metadata": {},
   "outputs": [
    {
     "output_type": "execute_result",
     "data": {
      "text/plain": [
       "306"
      ]
     },
     "metadata": {},
     "execution_count": 58
    }
   ],
   "source": [
    "run_part1(test_ins)"
   ]
  },
  {
   "source": [
    "Part I  \n",
    "\n",
    "Play the small crab in a game of Combat using the two decks you just dealt. What is the winning player's score?"
   ],
   "cell_type": "markdown",
   "metadata": {}
  },
  {
   "cell_type": "code",
   "execution_count": 59,
   "metadata": {},
   "outputs": [
    {
     "output_type": "execute_result",
     "data": {
      "text/plain": [
       "35005"
      ]
     },
     "metadata": {},
     "execution_count": 59
    }
   ],
   "source": [
    "real_ins = read_data(\"input.txt\", sep=\"\\n\\n\")\n",
    "run_part1(real_ins)"
   ]
  },
  {
   "source": [
    "Part II\n",
    "\n",
    "After updating rules 8 and 11, how many messages completely match rule 0?"
   ],
   "cell_type": "markdown",
   "metadata": {}
  },
  {
   "cell_type": "code",
   "execution_count": 160,
   "metadata": {},
   "outputs": [],
   "source": [
    "# check if there was a prev round with exactly the same cards\n",
    "def run_part2(ins: List[str]) -> int:\n",
    "\n",
    "    # set representing game history: set((List[int], List[int]))\n",
    "    history = set()\n",
    "    def iterate_part2(player_1: List[int], player_2: List[int], game_history: set):\n",
    "        # print(player_1, player_2)\n",
    "        # print(\"game history\")\n",
    "        # print(game_history)\n",
    "        # if not player_1 or not player_2:\n",
    "            \n",
    "        #     return player_1, player_2\n",
    "        while player_1 and player_2:\n",
    "            # check and add seen combinations\n",
    "            if (tuple(player_1), tuple(player_2)) in game_history:\n",
    "                # player 1 wins\n",
    "                # print(\"recursive error\")\n",
    "                # player_1.rotate(-1)\n",
    "                # player_1.extend(player_2)\n",
    "                return player_1, deque()\n",
    "            game_history.add(tuple(map(tuple, (player_1, player_2))))\n",
    "\n",
    "            play_1, play_2 = list(x.popleft() for x in (player_1, player_2))\n",
    "            if play_1 <= len(player_1) and play_2 <= len(player_2):\n",
    "                # print(\"going into recursive game\")\n",
    "                # player recursive game with new history\n",
    "                sub_player_1, sub_player_2 = iterate_part2(\n",
    "                                            deque(islice(player_1, 0, play_1)), \n",
    "                                            deque(islice(player_2, 0, play_2)),\n",
    "                                            set()\n",
    "                                            )\n",
    "                if not sub_player_1:\n",
    "                    player_2.extend([play_2, play_1])\n",
    "                else:\n",
    "                    player_1.extend([play_1, play_2])\n",
    "            else:\n",
    "                # play usual game\n",
    "                # print(\"playing usual game\")\n",
    "                player_1.extend([play_1, play_2]) if play_1 > play_2 else player_2.extend([play_2, play_1])\n",
    "        \n",
    "        # print(\"ending game\")\n",
    "        return player_1, player_2\n",
    "        \n",
    "    player_1, player_2 = [deque(int(x) for x in re.sub(r\"Player \\d+:\\n\", \" \", card_group).split()) for card_group in ins]\n",
    "    # print(\"starting iters\")\n",
    "    player_1, player_2 = iterate_part2(player_1, player_2, history)\n",
    "\n",
    "    # print(\"all iters ended\")\n",
    "    winner = player_2 if not player_1 else player_1\n",
    "    return sum(idx*val for idx, val in enumerate(reversed(winner), 1))\n",
    "\n",
    "   "
   ]
  },
  {
   "cell_type": "code",
   "execution_count": 161,
   "metadata": {
    "tags": []
   },
   "outputs": [
    {
     "output_type": "execute_result",
     "data": {
      "text/plain": [
       "291"
      ]
     },
     "metadata": {},
     "execution_count": 161
    }
   ],
   "source": [
    "run_part2(test_ins)"
   ]
  },
  {
   "cell_type": "code",
   "execution_count": 162,
   "metadata": {
    "tags": []
   },
   "outputs": [
    {
     "output_type": "execute_result",
     "data": {
      "text/plain": [
       "105"
      ]
     },
     "metadata": {},
     "execution_count": 162
    }
   ],
   "source": [
    "test_string2 = \"\"\"Player 1:\n",
    "43\n",
    "19\n",
    "\n",
    "Player 2:\n",
    "2\n",
    "29\n",
    "14\n",
    "\"\"\"\n",
    "test_ins2 = read_data(test_string2, sep=\"\\n\\n\", testing=True)\n",
    "run_part2(test_ins2)"
   ]
  },
  {
   "cell_type": "code",
   "execution_count": 163,
   "metadata": {
    "tags": []
   },
   "outputs": [
    {
     "output_type": "execute_result",
     "data": {
      "text/plain": [
       "32751"
      ]
     },
     "metadata": {},
     "execution_count": 163
    }
   ],
   "source": [
    "run_part2(real_ins)"
   ]
  },
  {
   "cell_type": "code",
   "execution_count": 164,
   "metadata": {},
   "outputs": [
    {
     "output_type": "stream",
     "name": "stdout",
     "text": [
      "[deque([21, 22, 33, 29, 43, 35, 8, 30, 50, 44, 9, 42, 45, 16, 12, 4, 15, 27, 20, 31, 25, 47, 5, 24, 19]), deque([3, 40, 37, 14, 1, 13, 49, 41, 28, 48, 18, 7, 23, 38, 32, 34, 46, 39, 17, 2, 11, 6, 10, 36, 26])]\n"
     ]
    }
   ],
   "source": [
    "print([deque(int(x) for x in re.sub(r\"Player \\d+:\\n\", \" \", card_group).split()) for card_group in real_ins])"
   ]
  },
  {
   "cell_type": "code",
   "execution_count": 165,
   "metadata": {},
   "outputs": [],
   "source": [
    "def recursive_combat(deals: Deals) -> Deals:\n",
    "    \"A game of Recursive Combat.\"\n",
    "    deals = mapt(deque, deals)\n",
    "    previously = set()\n",
    "    while all(deals):\n",
    "        if seen(deals, previously):\n",
    "            return (deals[0], ())\n",
    "        topcards = mapt(deque.popleft, deals)\n",
    "        if all(len(deals[p]) >= topcards[p] for p in (0, 1)):\n",
    "            deals2 = [tuple(deals[p])[:topcards[p]] for p in (0, 1)]\n",
    "            result = recursive_combat(deals2)\n",
    "            winner = 0 if result[0] else 1\n",
    "        else:\n",
    "            winner = 0 if topcards[0] > topcards[1] else 1\n",
    "        deals[winner].extend([topcards[winner], topcards[1 - winner]])\n",
    "    return deals\n",
    "\n",
    "def seen(deals, previously) -> bool:\n",
    "    \"Return True if we have seen this pair of deals previously; else just remember it.\"\n",
    "    hasht = mapt(tuple, deals)\n",
    "    if hasht in previously:\n",
    "        return True\n",
    "    else:\n",
    "        previously.add(hasht)\n",
    "        return False\n",
    "\n",
    "def mapt(fn, *args): \n",
    "    \"Do map(fn, *args) and make the result a tuple.\"\n",
    "    return tuple(map(fn, *args))"
   ]
  },
  {
   "cell_type": "code",
   "execution_count": 166,
   "metadata": {},
   "outputs": [
    {
     "output_type": "execute_result",
     "data": {
      "text/plain": [
       "(deque([18, 3, 44, 39, 36, 17, 38, 34, 7, 5, 50, 15, 22, 2, 49, 23, 28, 8, 47, 40, 43, 25, 30, 1, 42, 37, 13, 11, 48, 16, 24, 14, 32, 20, 10, 4, 46, 19, 26, 6, 45, 29, 41, 12, 35, 9, 33, 27, 31, 21]), deque([]))"
      ]
     },
     "metadata": {},
     "execution_count": 166
    }
   ],
   "source": [
    "deals = [deque([21, 22, 33, 29, 43, 35, 8, 30, 50, 44, 9, 42, 45, 16, 12, 4, 15, 27, 20, 31, 25, 47, 5, 24, 19]), deque([3, 40, 37, 14, 1, 13, 49, 41, 28, 48, 18, 7, 23, 38, 32, 34, 46, 39, 17, 2, 11, 6, 10, 36, 26])]\n",
    "\n",
    "recursive_combat(deals)\n"
   ]
  },
  {
   "source": [],
   "cell_type": "markdown",
   "metadata": {}
  }
 ]
}