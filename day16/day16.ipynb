{
 "metadata": {
  "language_info": {
   "codemirror_mode": {
    "name": "ipython",
    "version": 3
   },
   "file_extension": ".py",
   "mimetype": "text/x-python",
   "name": "python",
   "nbconvert_exporter": "python",
   "pygments_lexer": "ipython3",
   "version": "3.8.5-final"
  },
  "orig_nbformat": 2,
  "kernelspec": {
   "name": "python3",
   "display_name": "Python 3.8.5 64-bit ('sciprog': conda)",
   "metadata": {
    "interpreter": {
     "hash": "6d27727c82bded64b585bc8dfc3817660e1b36471861767aaaa6a10f919edba5"
    }
   }
  }
 },
 "nbformat": 4,
 "nbformat_minor": 2,
 "cells": [
  {
   "cell_type": "code",
   "execution_count": 1,
   "metadata": {},
   "outputs": [],
   "source": [
    "from __future__  import annotations\n",
    "from collections import Counter, defaultdict, namedtuple, deque\n",
    "from itertools   import permutations, combinations, cycle, product, islice, chain\n",
    "from functools   import lru_cache\n",
    "from typing      import Dict, Tuple, Set, List, Iterator, Optional\n",
    "from sys         import maxsize\n",
    "\n",
    "import re\n",
    "import ast\n",
    "import operator\n",
    "\n",
    "import numpy as np"
   ]
  },
  {
   "cell_type": "code",
   "execution_count": 2,
   "metadata": {},
   "outputs": [],
   "source": [
    "def read_data(input: str, parser=str, sep='\\n', testing=False) -> list:\n",
    "    if testing:\n",
    "        sections = input.split(sep)\n",
    "    else:\n",
    "        sections = open(input).read().split(sep)\n",
    "    return [parser(section) for section in sections]"
   ]
  },
  {
   "cell_type": "code",
   "execution_count": 3,
   "metadata": {},
   "outputs": [],
   "source": [
    "test_string = \"\"\"class: 1-3 or 5-7\n",
    "row: 6-11 or 33-44\n",
    "seat: 13-40 or 45-50\n",
    "\n",
    "your ticket:\n",
    "7,1,14\n",
    "\n",
    "nearby tickets:\n",
    "7,3,47\n",
    "40,4,50\n",
    "55,2,20\n",
    "38,6,12\"\"\""
   ]
  },
  {
   "cell_type": "code",
   "execution_count": 4,
   "metadata": {},
   "outputs": [],
   "source": [
    "class Ranges(tuple):\n",
    "    '''A list of ranges, supports `in`'''\n",
    "    def __contains__(self, value):\n",
    "        return any(value in item for item in self)\n",
    "\n",
    "def parse_fields(input: str):\n",
    "    field, start1, end1, start2, end2 = re.match(r\"([ \\w]+): (\\d+)-(\\d+) or (\\d+)-(\\d+)\", input).groups()\n",
    "    return field, Ranges((range(int(start1), int(end1) + 1), range(int(start2), int(end2) + 1)))\n",
    "\n",
    "def parse_ticket(input: str):\n",
    "    return [int(x) for x in input.split(\",\")]\n",
    "\n",
    "def parse_all(input: List[str]):\n",
    "    fields_raw, my_ticket_raw, nearby_raw = input\n",
    "    fields = dict([parse_fields(fields) for fields in fields_raw.split(\"\\n\")])\n",
    "    my_ticket = parse_ticket(my_ticket_raw.split(\"\\n\")[-1])\n",
    "    nearby_tickets = [parse_ticket(tik) for tik in nearby_raw.split(\"\\n\")[1:]]\n",
    "    return fields, my_ticket, nearby_tickets\n",
    "\n",
    "def run_part1(input: List[str]):\n",
    "    fields, my_ticket, nearby_tickets = parse_all(input)\n",
    "    all_ranges = Ranges(fields.values())\n",
    "    return sum([field for ticket in nearby_tickets \n",
    "            for field in ticket \n",
    "            if field not in all_ranges])"
   ]
  },
  {
   "source": [
    "Part I  \n",
    "\n",
    "Consider the validity of the nearby tickets you scanned. What is your ticket scanning error rate?"
   ],
   "cell_type": "markdown",
   "metadata": {}
  },
  {
   "cell_type": "code",
   "execution_count": 5,
   "metadata": {},
   "outputs": [
    {
     "output_type": "execute_result",
     "data": {
      "text/plain": [
       "71"
      ]
     },
     "metadata": {},
     "execution_count": 5
    }
   ],
   "source": [
    "test_ins = read_data(test_string, sep='\\n\\n', testing=True)\n",
    "run_part1(test_ins)"
   ]
  },
  {
   "cell_type": "code",
   "execution_count": 6,
   "metadata": {},
   "outputs": [
    {
     "output_type": "execute_result",
     "data": {
      "text/plain": [
       "25916"
      ]
     },
     "metadata": {},
     "execution_count": 6
    }
   ],
   "source": [
    "real_ins = read_data(\"input.txt\", sep='\\n\\n')\n",
    "run_part1(real_ins)"
   ]
  },
  {
   "source": [
    "Part II\n",
    "\n",
    "Once you work out which field is which, look for the six fields on your ticket that start with the word departure. What do you get if you multiply those six values together?"
   ],
   "cell_type": "markdown",
   "metadata": {}
  },
  {
   "cell_type": "code",
   "execution_count": 7,
   "metadata": {
    "tags": []
   },
   "outputs": [],
   "source": [
    "def get_invalid_fields(entries, fields):\n",
    "    return [name for name in fields\n",
    "            if any(entry not in fields[name] for entry in entries)]\n",
    "\n",
    "def remove_others(position, possible_fields):\n",
    "    for field in possible_fields:\n",
    "        if position != field:\n",
    "            possible_fields[field] -= possible_fields[position] \n",
    "\n",
    "def valid_ticket(ticket, all_ranges) -> bool:\n",
    "    return all(field in all_ranges for field in ticket)\n",
    "\n",
    "def decode_fields(input: List[str]):\n",
    "    fields, my_ticket, nearby_tickets = parse_all(input)\n",
    "    all_ranges = Ranges(fields.values())\n",
    "\n",
    "    import numpy as np\n",
    "    all_tickets = [my_ticket] + nearby_tickets\n",
    "    valid_tickets = np.array([ticket for ticket in all_tickets if valid_ticket(ticket, all_ranges)])\n",
    "\n",
    "    # initializes possible fields for each ticket entry position\n",
    "    possible_fields = {i: set(fields) for i in range(len(my_ticket))}\n",
    "    \n",
    "    # as we iterate, the number of fields in possible_fields will be iteratively removed\n",
    "    while any(len(possible_fields[field]) > 1 for field in possible_fields):\n",
    "        for position in possible_fields:\n",
    "            position_entries = valid_tickets[:, position]\n",
    "            \n",
    "            # update the invalid fields\n",
    "            invalid_fields = set(get_invalid_fields(position_entries, fields))\n",
    "            \n",
    "            # remove invalids\n",
    "            possible_fields[position] -= invalid_fields\n",
    "            \n",
    "            # shortlist confirmed fields with only one possibility\n",
    "            if len(possible_fields[position]) == 1:\n",
    "                remove_others(position, possible_fields)\n",
    "    \n",
    "    return possible_fields\n",
    "\n",
    "def run_part2(input: List[str]):\n",
    "    _, my_ticket, nearby_tickets = parse_all(input)\n",
    "    fields = decode_fields(input)\n",
    "    import math\n",
    "    return math.prod([my_ticket[k] for k, v in fields.items()\n",
    "              for field in v\n",
    "              if field.startswith('departure')])"
   ]
  },
  {
   "cell_type": "code",
   "execution_count": 8,
   "metadata": {},
   "outputs": [
    {
     "output_type": "execute_result",
     "data": {
      "text/plain": [
       "2564529489989"
      ]
     },
     "metadata": {},
     "execution_count": 8
    }
   ],
   "source": [
    "run_part2(real_ins)"
   ]
  },
  {
   "cell_type": "code",
   "execution_count": null,
   "metadata": {},
   "outputs": [],
   "source": []
  }
 ]
}