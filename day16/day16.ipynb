{
 "metadata": {
  "language_info": {
   "codemirror_mode": {
    "name": "ipython",
    "version": 3
   },
   "file_extension": ".py",
   "mimetype": "text/x-python",
   "name": "python",
   "nbconvert_exporter": "python",
   "pygments_lexer": "ipython3",
   "version": "3.9.1-final"
  },
  "orig_nbformat": 2,
  "kernelspec": {
   "name": "python3",
   "display_name": "Python 3",
   "language": "python"
  }
 },
 "nbformat": 4,
 "nbformat_minor": 2,
 "cells": [
  {
   "cell_type": "code",
   "execution_count": 1,
   "metadata": {},
   "outputs": [],
   "source": [
    "from __future__  import annotations\n",
    "from collections import Counter, defaultdict, namedtuple, deque\n",
    "from itertools   import permutations, combinations, cycle, product, islice, chain\n",
    "from functools   import lru_cache\n",
    "from typing      import Dict, Tuple, Set, List, Iterator, Optional\n",
    "from sys         import maxsize\n",
    "\n",
    "import re\n",
    "import ast\n",
    "import operator\n",
    "\n",
    "import numpy as np"
   ]
  },
  {
   "cell_type": "code",
   "execution_count": 2,
   "metadata": {},
   "outputs": [],
   "source": [
    "def read_data(input: str, parser=str, sep='\\n', testing=False) -> list:\n",
    "    if testing:\n",
    "        sections = input.split(sep)\n",
    "    else:\n",
    "        sections = open(input).read().split(sep)\n",
    "    return [parser(section) for section in sections]"
   ]
  },
  {
   "cell_type": "code",
   "execution_count": 3,
   "metadata": {},
   "outputs": [],
   "source": [
    "test_string = \"\"\"class: 1-3 or 5-7\n",
    "row: 6-11 or 33-44\n",
    "seat: 13-40 or 45-50\n",
    "\n",
    "your ticket:\n",
    "7,1,14\n",
    "\n",
    "nearby tickets:\n",
    "7,3,47\n",
    "40,4,50\n",
    "55,2,20\n",
    "38,6,12\"\"\""
   ]
  },
  {
   "cell_type": "code",
   "execution_count": 17,
   "metadata": {},
   "outputs": [],
   "source": [
    "\n",
    "class Ranges(tuple):\n",
    "    '''A list of ranges, supports `in`'''\n",
    "    def __contains__(self, value):\n",
    "        return any(value in item for item in self)\n",
    "\n",
    "def parse_fields(input: str):\n",
    "    field, start1, end1, start2, end2 = re.match(r\"([ \\w]+): (\\d+)-(\\d+) or (\\d+)-(\\d+)\", input).groups()\n",
    "    return field, Ranges((range(int(start1), int(end1) + 1), range(int(start2), int(end2) + 1)))\n",
    "\n",
    "def parse_ticket(input: str):\n",
    "    return [int(x) for x in input.split(\",\")]\n",
    "\n",
    "def run_part1(input: str):\n",
    "    fields_raw, my_ticket_raw, nearby_raw = input\n",
    "    fields = dict([parse_fields(fields) for fields in fields_raw.split(\"\\n\")])\n",
    "    nearby_tickets = [parse_ticket(tik) for tik in nearby_raw.split(\"\\n\")[1:]]\n",
    "    ranges = Ranges(fields.values())\n",
    "    return sum([field for ticket in nearby_tickets \n",
    "            for field in ticket \n",
    "            if field not in ranges])\n"
   ]
  },
  {
   "cell_type": "code",
   "execution_count": 18,
   "metadata": {},
   "outputs": [
    {
     "output_type": "execute_result",
     "data": {
      "text/plain": [
       "71"
      ]
     },
     "metadata": {},
     "execution_count": 18
    }
   ],
   "source": [
    "test_in = read_data(test_string, sep='\\n\\n', testing=True)\n",
    "run_part1(test_in)"
   ]
  },
  {
   "source": [
    "Part I  \n",
    "\n",
    "Consider the validity of the nearby tickets you scanned. What is your ticket scanning error rate?"
   ],
   "cell_type": "markdown",
   "metadata": {}
  },
  {
   "cell_type": "code",
   "execution_count": 21,
   "metadata": {},
   "outputs": [
    {
     "output_type": "execute_result",
     "data": {
      "text/plain": [
       "25916"
      ]
     },
     "metadata": {},
     "execution_count": 21
    }
   ],
   "source": [
    "real_ins = read_data(\"input.txt\", sep='\\n\\n')\n",
    "run_part1(real_ins)"
   ]
  },
  {
   "source": [
    "Part II\n",
    "\n",
    "Given your starting numbers, what will be the 30000000th number spoken?"
   ],
   "cell_type": "markdown",
   "metadata": {}
  },
  {
   "cell_type": "code",
   "execution_count": 8,
   "metadata": {
    "tags": []
   },
   "outputs": [],
   "source": [
    "assert run_part1(test_ins, 30000000) == 175594"
   ]
  },
  {
   "cell_type": "code",
   "execution_count": 9,
   "metadata": {},
   "outputs": [
    {
     "output_type": "stream",
     "name": "stdout",
     "text": [
      "CPU times: user 8.3 s, sys: 130 ms, total: 8.43 s\nWall time: 8.43 s\n"
     ]
    },
    {
     "output_type": "execute_result",
     "data": {
      "text/plain": [
       "1407"
      ]
     },
     "metadata": {},
     "execution_count": 9
    }
   ],
   "source": [
    "%time run_part1(real_ins, 30000000)"
   ]
  },
  {
   "cell_type": "code",
   "execution_count": null,
   "metadata": {},
   "outputs": [],
   "source": []
  }
 ]
}