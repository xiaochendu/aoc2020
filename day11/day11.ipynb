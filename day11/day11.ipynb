{
 "metadata": {
  "language_info": {
   "codemirror_mode": {
    "name": "ipython",
    "version": 3
   },
   "file_extension": ".py",
   "mimetype": "text/x-python",
   "name": "python",
   "nbconvert_exporter": "python",
   "pygments_lexer": "ipython3",
   "version": "3.9.1-final"
  },
  "orig_nbformat": 2,
  "kernelspec": {
   "name": "python3",
   "display_name": "Python 3",
   "language": "python"
  }
 },
 "nbformat": 4,
 "nbformat_minor": 2,
 "cells": [
  {
   "source": [
    "### Could use some work here to make the classes look good and efficient"
   ],
   "cell_type": "markdown",
   "metadata": {}
  },
  {
   "cell_type": "code",
   "execution_count": 13,
   "metadata": {},
   "outputs": [],
   "source": [
    "from __future__  import annotations\n",
    "from collections import Counter, defaultdict, namedtuple, deque\n",
    "from itertools   import permutations, combinations, cycle, product, islice, chain\n",
    "from functools   import lru_cache\n",
    "from typing      import Dict, Tuple, Set, List, Iterator, Optional\n",
    "from sys         import maxsize\n",
    "\n",
    "import re\n",
    "import ast\n",
    "import operator\n",
    "\n",
    "import numpy as np"
   ]
  },
  {
   "cell_type": "code",
   "execution_count": 14,
   "metadata": {},
   "outputs": [],
   "source": [
    "def read_data(input: str, parser=str, sep='\\n', testing=False) -> list:\n",
    "    if testing:\n",
    "        sections = input.split(sep)\n",
    "    else:\n",
    "        sections = open(input).read().split(sep)\n",
    "    return [parser(section) for section in sections]"
   ]
  },
  {
   "cell_type": "code",
   "execution_count": 15,
   "metadata": {},
   "outputs": [],
   "source": [
    "string = \"\"\"L.LL.LL.LL\n",
    "LLLLLLL.LL\n",
    "L.L.L..L..\n",
    "LLLL.LL.LL\n",
    "L.LL.LL.LL\n",
    "L.LLLLL.LL\n",
    "..L.L.....\n",
    "LLLLLLLLLL\n",
    "L.LLLLLL.L\n",
    "L.LLLLL.LL\"\"\""
   ]
  },
  {
   "cell_type": "code",
   "execution_count": 16,
   "metadata": {},
   "outputs": [
    {
     "output_type": "execute_result",
     "data": {
      "text/plain": [
       "[['L', '.', 'L', 'L', '.', 'L', 'L', '.', 'L', 'L'],\n",
       " ['L', 'L', 'L', 'L', 'L', 'L', 'L', '.', 'L', 'L'],\n",
       " ['L', '.', 'L', '.', 'L', '.', '.', 'L', '.', '.'],\n",
       " ['L', 'L', 'L', 'L', '.', 'L', 'L', '.', 'L', 'L'],\n",
       " ['L', '.', 'L', 'L', '.', 'L', 'L', '.', 'L', 'L'],\n",
       " ['L', '.', 'L', 'L', 'L', 'L', 'L', '.', 'L', 'L'],\n",
       " ['.', '.', 'L', '.', 'L', '.', '.', '.', '.', '.'],\n",
       " ['L', 'L', 'L', 'L', 'L', 'L', 'L', 'L', 'L', 'L'],\n",
       " ['L', '.', 'L', 'L', 'L', 'L', 'L', 'L', '.', 'L'],\n",
       " ['L', '.', 'L', 'L', 'L', 'L', 'L', '.', 'L', 'L']]"
      ]
     },
     "metadata": {},
     "execution_count": 16
    }
   ],
   "source": [
    "test_ins = read_data(string, parser=lambda x: list(x), sep=\"\\n\", testing=True)\n",
    "test_ins\n"
   ]
  },
  {
   "cell_type": "code",
   "execution_count": 251,
   "metadata": {
    "tags": []
   },
   "outputs": [],
   "source": [
    "class Seats():\n",
    "    def __init__(self, seats: List[List[str]]):\n",
    "        self.curr_seats = seats\n",
    "        self.offsets = set(product((-1, 0, 1), (-1, 0, 1))) - set([(0, 0),])\n",
    "        self.num_rows = len(self.curr_seats)\n",
    "        self.num_cols = len(self.curr_seats[0])\n",
    "        self.occupied = '#'\n",
    "        self.free = 'L'\n",
    "        self.magic_num = 4\n",
    "\n",
    "    def is_valid(self, idx: List[int, int]) -> bool:\n",
    "        row, col = idx\n",
    "        if row < 0 or row >= self.num_rows or col < 0 or col >= self.num_cols:\n",
    "            return False\n",
    "        return True\n",
    "\n",
    "    def neighboring_seat_idx(self, current_idx: List[int, int]) -> List[List[int, int]]:\n",
    "        row, col = current_idx\n",
    "        return [[row + drow, col + dcol] for drow, dcol \n",
    "                in self.offsets\n",
    "                if self.is_valid([row + drow, col + dcol])]\n",
    "\n",
    "    def num_adj_occupied(self, current_idx: List[int, int]) -> int:\n",
    "        neighboring_vals = [self.curr_seats[row][col] for row, col \n",
    "                            in self.neighboring_seat_idx(current_idx)]\n",
    "        return Counter(neighboring_vals)[self.occupied]\n",
    "\n",
    "    def next_val(self, current_idx: List[int, int]) -> int:\n",
    "        row, col = current_idx\n",
    "        current_val = self.curr_seats[row][col]\n",
    "        num_occupied = self.num_adj_occupied(current_idx)\n",
    "        if current_val == self.occupied and  num_occupied >= self.magic_num:\n",
    "            return self.free\n",
    "        elif current_val == self.free and num_occupied == 0:\n",
    "            return self.occupied\n",
    "        return current_val\n",
    "    \n",
    "    def next_seats(self):\n",
    "        return [[self.next_val([row, col]) \n",
    "                      for col in range(self.num_cols)]\n",
    "                     for row in range(self.num_rows)]\n",
    "\n",
    "    def iterate(self):        \n",
    "        new_seats = self.next_seats()\n",
    "        while self.curr_seats != new_seats:\n",
    "        # for i in range(3):\n",
    "            # from pprint import pprint as pp\n",
    "            # pp([''.join(row) for row in self.curr_seats])\n",
    "            self.curr_seats = new_seats\n",
    "            new_seats = self.next_seats()\n",
    "    \n",
    "    def count_occupied(self):\n",
    "        self.iterate()\n",
    "        return Counter(''.join([''.join(row) for row in self.curr_seats]))[self.occupied]\n",
    "            "
   ]
  },
  {
   "cell_type": "code",
   "execution_count": 252,
   "metadata": {
    "tags": []
   },
   "outputs": [
    {
     "output_type": "execute_result",
     "data": {
      "text/plain": [
       "37"
      ]
     },
     "metadata": {},
     "execution_count": 252
    }
   ],
   "source": [
    "test_seats = Seats(test_ins)\n",
    "test_seats.count_occupied()"
   ]
  },
  {
   "source": [
    "Part I  \n",
    "\n",
    "Simulate your seating area by applying the seating rules repeatedly until no seats change state. How many seats end up occupied?"
   ],
   "cell_type": "markdown",
   "metadata": {}
  },
  {
   "cell_type": "code",
   "execution_count": 253,
   "metadata": {
    "tags": []
   },
   "outputs": [
    {
     "output_type": "stream",
     "name": "stdout",
     "text": [
      "4.12 s ± 5.77 ms per loop (mean ± std. dev. of 7 runs, 1 loop each)\n"
     ]
    }
   ],
   "source": [
    "%%timeit\n",
    "real_ins = read_data(\"input.txt\", parser=lambda x: list(x))\n",
    "real_seats = Seats(real_ins)\n",
    "real_seats.count_occupied()"
   ]
  },
  {
   "cell_type": "code",
   "execution_count": 254,
   "metadata": {},
   "outputs": [
    {
     "output_type": "execute_result",
     "data": {
      "text/plain": [
       "2359"
      ]
     },
     "metadata": {},
     "execution_count": 254
    }
   ],
   "source": [
    "real_seats.count_occupied()"
   ]
  },
  {
   "source": [
    "Part II\n",
    "\n",
    "Given the new visibility method and the rule change for occupied seats becoming empty, once equilibrium is reached, how many seats end up occupied?"
   ],
   "cell_type": "markdown",
   "metadata": {}
  },
  {
   "cell_type": "code",
   "execution_count": 255,
   "metadata": {},
   "outputs": [],
   "source": [
    "class NewSeats(Seats):\n",
    "    def __init__(self, seats: List[List[str]]):\n",
    "        super().__init__(seats)\n",
    "        self.magic_num = 5\n",
    "\n",
    "    def neighboring_seat_idx(self, current_idx: List[int, int]) -> List[List[int, int]]:\n",
    "        row, col = current_idx\n",
    "        idx = []\n",
    "        for drow, dcol in self.offsets:\n",
    "            ddrow = drow\n",
    "            ddcol = dcol\n",
    "            while self.is_valid([row + drow, col + dcol]) and not (self.curr_seats[row + drow][col + dcol] == self.occupied or self.curr_seats[row + drow][col + dcol] == self.free):\n",
    "                        drow += ddrow\n",
    "                        dcol += ddcol\n",
    "            if self.is_valid([row + drow, col + dcol]):\n",
    "                idx.append([row + drow, col + dcol])\n",
    "        return idx\n",
    "    "
   ]
  },
  {
   "cell_type": "code",
   "execution_count": 256,
   "metadata": {},
   "outputs": [
    {
     "output_type": "execute_result",
     "data": {
      "text/plain": [
       "26"
      ]
     },
     "metadata": {},
     "execution_count": 256
    }
   ],
   "source": [
    "test_seats2 = NewSeats(test_ins)\n",
    "test_seats2.offsets\n",
    "test_seats2.count_occupied()"
   ]
  },
  {
   "cell_type": "code",
   "execution_count": 257,
   "metadata": {
    "tags": []
   },
   "outputs": [
    {
     "output_type": "execute_result",
     "data": {
      "text/plain": [
       "9"
      ]
     },
     "metadata": {},
     "execution_count": 257
    }
   ],
   "source": [
    "test1 = \"\"\".##.##.\n",
    "#.#.#.#\n",
    "##...##\n",
    "...L...\n",
    "##...##\n",
    "#.#.#.#\n",
    ".##.##.\"\"\"\n",
    "test_ins1 = read_data(test1, parser=lambda x: list(x), sep=\"\\n\", testing=True)\n",
    "test_seats2 = NewSeats(test_ins1)\n",
    "test_seats2.offsets\n",
    "test_seats2.count_occupied()"
   ]
  },
  {
   "cell_type": "code",
   "execution_count": 258,
   "metadata": {},
   "outputs": [
    {
     "output_type": "execute_result",
     "data": {
      "text/plain": [
       "2131"
      ]
     },
     "metadata": {},
     "execution_count": 258
    }
   ],
   "source": [
    "real_seats2 = NewSeats(real_ins)\n",
    "real_seats2.count_occupied()"
   ]
  },
  {
   "cell_type": "code",
   "execution_count": null,
   "metadata": {},
   "outputs": [],
   "source": []
  }
 ]
}