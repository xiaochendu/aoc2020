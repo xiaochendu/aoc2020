{
 "metadata": {
  "language_info": {
   "codemirror_mode": {
    "name": "ipython",
    "version": 3
   },
   "file_extension": ".py",
   "mimetype": "text/x-python",
   "name": "python",
   "nbconvert_exporter": "python",
   "pygments_lexer": "ipython3",
   "version": "3.9.1-final"
  },
  "orig_nbformat": 2,
  "kernelspec": {
   "name": "python3",
   "display_name": "Python 3",
   "language": "python"
  }
 },
 "nbformat": 4,
 "nbformat_minor": 2,
 "cells": [
  {
   "cell_type": "code",
   "execution_count": 1,
   "metadata": {},
   "outputs": [],
   "source": [
    "from __future__  import annotations\n",
    "from collections import Counter, defaultdict, namedtuple, deque\n",
    "from itertools   import permutations, combinations, cycle, product, islice, chain\n",
    "from functools   import lru_cache\n",
    "from typing      import Dict, Tuple, Set, List, Iterator, Optional\n",
    "from sys         import maxsize\n",
    "\n",
    "import re\n",
    "import ast\n",
    "import operator"
   ]
  },
  {
   "cell_type": "code",
   "execution_count": 2,
   "metadata": {},
   "outputs": [],
   "source": [
    "def read_data(input: str, parser=str, sep='\\n', testing=False) -> list:\n",
    "    if testing:\n",
    "        sections = input.split(sep)\n",
    "    else:\n",
    "        sections = open(input).read().split(sep)\n",
    "    return [parser(section) for section in sections]"
   ]
  },
  {
   "cell_type": "code",
   "execution_count": 29,
   "metadata": {},
   "outputs": [],
   "source": [
    "\"\"\"\n",
    "Map F->0, B->1; R->1, L->0\n",
    "\"\"\"\n",
    "def parse_seat(input: str) -> int:\n",
    "\n",
    "    \"\"\"\n",
    "    From norvig solutions\n",
    "    \"\"\"\n",
    "    codebook = str.maketrans('FBRL', '0110')\n",
    "    return int(input.translate(codebook), base=2)\n",
    "    # row_code, col_code = input[:-3], input[-3:]\n",
    "    # row_string = \"\".join([codebook[code] for code in row_code])\n",
    "    # col_string = \"\".join([codebook[code] for code in col_code])\n",
    "    # return int(row_string, 2) * 8 + int(col_string, 2)"
   ]
  },
  {
   "cell_type": "code",
   "execution_count": 30,
   "metadata": {},
   "outputs": [],
   "source": [
    "string = \"\"\"FBFBBFFRLR\"\"\""
   ]
  },
  {
   "cell_type": "code",
   "execution_count": 31,
   "metadata": {},
   "outputs": [
    {
     "output_type": "stream",
     "name": "stdout",
     "text": [
      "{70: 48, 66: 49, 82: 49, 76: 48}\n"
     ]
    },
    {
     "output_type": "execute_result",
     "data": {
      "text/plain": [
       "357"
      ]
     },
     "metadata": {},
     "execution_count": 31
    }
   ],
   "source": [
    "parse_seat(string)"
   ]
  },
  {
   "source": [
    "Part I  \n",
    "\n",
    "Find the highest seat ID on a boarding pass.\n",
    "\n",
    "Seat ID = row * 8 + column"
   ],
   "cell_type": "markdown",
   "metadata": {}
  },
  {
   "cell_type": "code",
   "execution_count": 27,
   "metadata": {},
   "outputs": [
    {
     "output_type": "execute_result",
     "data": {
      "text/plain": [
       "816"
      ]
     },
     "metadata": {},
     "execution_count": 27
    }
   ],
   "source": [
    "parsed_data = read_data(\"input.txt\", parser=parse_seat, sep=\"\\n\")\n",
    "\n",
    "max(parsed_data)"
   ]
  },
  {
   "source": [
    "Part II\n",
    "\n",
    "It's a completely full flight, so your seat should be the only missing boarding pass in your list. However, there's a catch: some of the seats at the very front and back of the plane don't exist on this aircraft, so they'll be missing from your list as well.\n",
    "\n",
    "Your seat wasn't at the very front or back, though; the seats with IDs +1 and -1 from yours will be in your list.\n",
    "\n",
    "What is the ID of your seat?\n"
   ],
   "cell_type": "markdown",
   "metadata": {}
  },
  {
   "cell_type": "code",
   "execution_count": 28,
   "metadata": {},
   "outputs": [
    {
     "output_type": "execute_result",
     "data": {
      "text/plain": [
       "{539}"
      ]
     },
     "metadata": {},
     "execution_count": 28
    }
   ],
   "source": [
    "sorted_idx = sorted(parsed_data)\n",
    "set(range(min(sorted_idx), max(sorted_idx))) - set(sorted_idx) "
   ]
  }
 ]
}