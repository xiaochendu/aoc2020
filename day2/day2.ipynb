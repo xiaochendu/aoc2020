{
 "metadata": {
  "language_info": {
   "codemirror_mode": {
    "name": "ipython",
    "version": 3
   },
   "file_extension": ".py",
   "mimetype": "text/x-python",
   "name": "python",
   "nbconvert_exporter": "python",
   "pygments_lexer": "ipython3",
   "version": "3.9.1-final"
  },
  "orig_nbformat": 2,
  "kernelspec": {
   "name": "python39164bitsciprogcondae287988623034955a6682190944558c6",
   "display_name": "Python 3.9.1 64-bit ('sciprog': conda)",
   "language": "python"
  }
 },
 "nbformat": 4,
 "nbformat_minor": 2,
 "cells": [
  {
   "source": [
    "Part I"
   ],
   "cell_type": "markdown",
   "metadata": {}
  },
  {
   "cell_type": "code",
   "execution_count": 45,
   "metadata": {},
   "outputs": [],
   "source": [
    "from __future__  import annotations\n",
    "from collections import Counter, defaultdict, namedtuple, deque\n",
    "from itertools   import permutations, combinations, cycle, product, islice, chain\n",
    "from functools   import lru_cache\n",
    "from typing      import Dict, Tuple, Set, List, Iterator, Optional\n",
    "from sys         import maxsize\n",
    "\n",
    "import re\n",
    "import ast\n",
    "import operator"
   ]
  },
  {
   "cell_type": "code",
   "execution_count": 47,
   "metadata": {},
   "outputs": [],
   "source": [
    "# From Peter Norvig's code\n",
    "Policy = Tuple[int, int, str, str]\n",
    "\n",
    "def parse_password_policy(line: str) -> Policy:\n",
    "    \"Given '1-3 b: cdefg', return (1, 3, 'b', 'cdefg').\"\n",
    "    a, b, L, pw = re.findall(r'[^-:\\s]+', line)\n",
    "    return (int(a), int(b), L, pw)"
   ]
  },
  {
   "cell_type": "code",
   "execution_count": 57,
   "metadata": {
    "tags": []
   },
   "outputs": [],
   "source": [
    "import re\n",
    "import numpy as np\n",
    "\n",
    "num_valid = 0\n",
    "\n",
    "with open(\"input.txt\", \"r\") as f:\n",
    "    for line in f:\n",
    "        # print(line)\n",
    "        minval, maxval, letter, string = re.findall(r'[^-:\\s]+', line)\n",
    "        minvaldig, maxvaldig = int(minval), int(maxval)\n",
    "        num_valid += int(minvaldig <= string.count(letter) <= maxvaldig)"
   ]
  },
  {
   "cell_type": "code",
   "execution_count": 27,
   "metadata": {},
   "outputs": [
    {
     "output_type": "stream",
     "name": "stdout",
     "text": [
      "1000 input.txt\n"
     ]
    }
   ],
   "source": [
    "%%bash\n",
    "wc -l \"input.txt\""
   ]
  },
  {
   "cell_type": "code",
   "execution_count": 58,
   "metadata": {},
   "outputs": [
    {
     "output_type": "execute_result",
     "data": {
      "text/plain": [
       "393"
      ]
     },
     "metadata": {},
     "execution_count": 58
    }
   ],
   "source": [
    "num_valid"
   ]
  },
  {
   "source": [
    "Part II"
   ],
   "cell_type": "markdown",
   "metadata": {}
  },
  {
   "cell_type": "code",
   "execution_count": 41,
   "metadata": {},
   "outputs": [],
   "source": [
    "import re\n",
    "import numpy as np\n",
    "\n",
    "num_valid = 0\n",
    "\n",
    "with open(\"input.txt\", \"r\") as f:\n",
    "    for line in f:\n",
    "        exp = re.compile(r'(.*)-(.*) (.): (.*)')\n",
    "        minval, maxval, letter, string = exp.findall(line)[0]\n",
    "        minvalidx, maxvalidx = int(minval) - 1, int(maxval) - 1\n",
    "        num_valid +=  (string[minvalidx] == letter) ^ (string[maxvalidx] == letter)"
   ]
  },
  {
   "source": [
    "Testing"
   ],
   "cell_type": "markdown",
   "metadata": {}
  },
  {
   "cell_type": "code",
   "execution_count": 42,
   "metadata": {},
   "outputs": [
    {
     "output_type": "execute_result",
     "data": {
      "text/plain": [
       "False"
      ]
     },
     "metadata": {},
     "execution_count": 42
    }
   ],
   "source": [
    "# line = '1-3 a: abcde'\n",
    "line = '2-9 c: ccccccccc'\n",
    "exp = re.compile(r'(.*)-(.*) (.): (.*)')\n",
    "minval, maxval, letter, string = exp.findall(line)[0]\n",
    "minvalidx, maxvalidx = int(minval) - 1, int(maxval) - 1\n",
    "(string[minvalidx] == letter) ^ (string[maxvalidx] == letter)"
   ]
  },
  {
   "cell_type": "code",
   "execution_count": 48,
   "metadata": {},
   "outputs": [
    {
     "output_type": "execute_result",
     "data": {
      "text/plain": [
       "(2, 9, 'c', 'ccccccccc')"
      ]
     },
     "metadata": {},
     "execution_count": 48
    }
   ],
   "source": [
    "parse_password_policy(line)"
   ]
  },
  {
   "cell_type": "code",
   "execution_count": 43,
   "metadata": {},
   "outputs": [
    {
     "output_type": "execute_result",
     "data": {
      "text/plain": [
       "690"
      ]
     },
     "metadata": {},
     "execution_count": 43
    }
   ],
   "source": [
    "num_valid"
   ]
  },
  {
   "cell_type": "code",
   "execution_count": null,
   "metadata": {},
   "outputs": [],
   "source": []
  }
 ]
}