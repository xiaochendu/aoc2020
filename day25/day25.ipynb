{
 "metadata": {
  "language_info": {
   "codemirror_mode": {
    "name": "ipython",
    "version": 3
   },
   "file_extension": ".py",
   "mimetype": "text/x-python",
   "name": "python",
   "nbconvert_exporter": "python",
   "pygments_lexer": "ipython3",
   "version": "3.9.1-final"
  },
  "orig_nbformat": 2,
  "kernelspec": {
   "name": "python3",
   "display_name": "Python 3",
   "language": "python"
  }
 },
 "nbformat": 4,
 "nbformat_minor": 2,
 "cells": [
  {
   "cell_type": "code",
   "execution_count": 1,
   "metadata": {},
   "outputs": [],
   "source": [
    "from __future__  import annotations\n",
    "from collections import Counter, defaultdict, namedtuple, deque\n",
    "from itertools   import permutations, combinations, cycle, product, islice, chain\n",
    "from functools   import lru_cache\n",
    "from typing      import Dict, Tuple, Set, List, Iterator, Optional\n",
    "from sys         import maxsize\n",
    "\n",
    "import re\n",
    "import ast\n",
    "import operator\n",
    "\n",
    "import numpy as np"
   ]
  },
  {
   "cell_type": "code",
   "execution_count": 2,
   "metadata": {},
   "outputs": [],
   "source": [
    "def read_data(input: str, parser=str, sep='\\n', testing=False) -> list:\n",
    "    if testing:\n",
    "        sections = input.split(sep)\n",
    "    else:\n",
    "        sections = open(input).read().split(sep)\n",
    "    return [parser(section) for section in sections]"
   ]
  },
  {
   "cell_type": "code",
   "execution_count": 3,
   "metadata": {},
   "outputs": [],
   "source": [
    "def parse_data(input: str) -> int:\n",
    "    return int(input)"
   ]
  },
  {
   "cell_type": "code",
   "execution_count": 4,
   "metadata": {},
   "outputs": [],
   "source": [
    "test_string = \"\"\"5764801\n",
    "17807724\"\"\"\n",
    "test_ins = read_data(test_string, parser=parse_data, sep=None, testing=True)"
   ]
  },
  {
   "source": [
    "Part I  \n",
    "\n",
    "What encryption key is the handshake trying to establish?"
   ],
   "cell_type": "markdown",
   "metadata": {}
  },
  {
   "cell_type": "code",
   "execution_count": 5,
   "metadata": {},
   "outputs": [],
   "source": [
    "def backward(key: int, div_num=20201227, sub_num=7) -> int:\n",
    "    num = 1\n",
    "    iters = 0\n",
    "    while num != key:\n",
    "        num *= sub_num\n",
    "        num %= div_num\n",
    "        iters += 1\n",
    "    return iters\n",
    "\n",
    "def forward(sub_num: int, iters: int, div_num=20201227) -> int:\n",
    "    num = 1\n",
    "    for _ in range(iters):\n",
    "        num *= sub_num\n",
    "        num %= div_num\n",
    "    return num\n",
    "\n",
    "def run_part1(ins: List[int]) -> int:\n",
    "    iters = list(map(backward, ins))\n",
    "    private_keys = list(map(forward, ins, iters[::-1]))\n",
    "    assert len(set(private_keys)) == 1\n",
    "    return private_keys[-1]"
   ]
  },
  {
   "source": [
    "run_part1(test_ins)"
   ],
   "cell_type": "code",
   "metadata": {},
   "execution_count": 6,
   "outputs": [
    {
     "output_type": "execute_result",
     "data": {
      "text/plain": [
       "14897079"
      ]
     },
     "metadata": {},
     "execution_count": 6
    }
   ]
  },
  {
   "cell_type": "code",
   "execution_count": 7,
   "metadata": {},
   "outputs": [
    {
     "output_type": "execute_result",
     "data": {
      "text/plain": [
       "6198540"
      ]
     },
     "metadata": {},
     "execution_count": 7
    }
   ],
   "source": [
    "real_ins = read_data(\"input.txt\", parser=parse_data, sep=None)\n",
    "run_part1(real_ins)"
   ]
  },
  {
   "source": [],
   "cell_type": "markdown",
   "metadata": {}
  }
 ]
}