{
 "metadata": {
  "language_info": {
   "codemirror_mode": {
    "name": "ipython",
    "version": 3
   },
   "file_extension": ".py",
   "mimetype": "text/x-python",
   "name": "python",
   "nbconvert_exporter": "python",
   "pygments_lexer": "ipython3",
   "version": "3.9.1-final"
  },
  "orig_nbformat": 2,
  "kernelspec": {
   "name": "python3",
   "display_name": "Python 3",
   "language": "python"
  }
 },
 "nbformat": 4,
 "nbformat_minor": 2,
 "cells": [
  {
   "cell_type": "code",
   "execution_count": 1,
   "metadata": {},
   "outputs": [],
   "source": [
    "from __future__  import annotations\n",
    "from collections import Counter, defaultdict, namedtuple, deque\n",
    "from itertools   import permutations, combinations, cycle, product, islice, chain\n",
    "from functools   import lru_cache\n",
    "from typing      import Dict, Tuple, Set, List, Iterator, Optional\n",
    "from sys         import maxsize\n",
    "\n",
    "import re\n",
    "import ast\n",
    "import operator"
   ]
  },
  {
   "cell_type": "code",
   "execution_count": 2,
   "metadata": {},
   "outputs": [],
   "source": [
    "def read_data(input: str, parser=str, sep='\\n', testing=False) -> list:\n",
    "    if testing:\n",
    "        sections = input.split(sep)\n",
    "    else:\n",
    "        sections = open(input).read().split(sep)\n",
    "    return [parser(section) for section in sections]"
   ]
  },
  {
   "cell_type": "code",
   "execution_count": 3,
   "metadata": {},
   "outputs": [],
   "source": [
    "def parse_sink_bag(input: str) -> List[Tuple[str, int]]:\n",
    "    num, bag = re.search(r'(\\d+) ([\\w ]+) bags?', input).groups()\n",
    "    return bag, int(num)\n",
    " \n",
    "def parse_bags(input: str) -> List[str]:\n",
    "    source, sink = re.search(r'([a-z\\s]+) bags contain ([\\w\\s,]+).', input).groups()\n",
    "    if \"no other bags\" in sink:\n",
    "        return source, dict()\n",
    "    return source, dict([parse_sink_bag(bag) for bag in sink.split(\", \")])\n",
    "\n",
    "def find_num_bag_colors(rules: dict, target='shiny gold') -> int:\n",
    "\n",
    "    @lru_cache(maxsize=None)\n",
    "    def contains(bag: str, target: str) -> bool:\n",
    "        contents = rules.get(bag, {})\n",
    "        return (target in contents \n",
    "                or any(contains(inner, target) for inner in contents))\n",
    "\n",
    "    return sum(contains(bag, target) for bag in rules)"
   ]
  },
  {
   "cell_type": "code",
   "execution_count": 4,
   "metadata": {},
   "outputs": [],
   "source": [
    "string = \"\"\"light red bags contain 1 bright white bag, 2 muted yellow bags.\n",
    "dark orange bags contain 3 bright white bags, 4 muted yellow bags.\n",
    "bright white bags contain 1 shiny gold bag.\n",
    "muted yellow bags contain 2 shiny gold bags, 9 faded blue bags.\n",
    "shiny gold bags contain 1 dark olive bag, 2 vibrant plum bags.\n",
    "dark olive bags contain 3 faded blue bags, 4 dotted black bags.\n",
    "vibrant plum bags contain 5 faded blue bags, 6 dotted black bags.\n",
    "faded blue bags contain no other bags.\n",
    "dotted black bags contain no other bags.\"\"\""
   ]
  },
  {
   "cell_type": "code",
   "execution_count": 5,
   "metadata": {},
   "outputs": [
    {
     "output_type": "execute_result",
     "data": {
      "text/plain": [
       "4"
      ]
     },
     "metadata": {},
     "execution_count": 5
    }
   ],
   "source": [
    "test_rules = dict(read_data(string, parser=parse_bags, sep=\"\\n\", testing=True))\n",
    "find_num_bag_colors(test_rules)"
   ]
  },
  {
   "source": [
    "Part I  \n",
    "\n",
    "How many bag colors can eventually contain at least one shiny gold bag? (The list of rules is quite long; make sure you get all of it.)"
   ],
   "cell_type": "markdown",
   "metadata": {}
  },
  {
   "cell_type": "code",
   "execution_count": 6,
   "metadata": {},
   "outputs": [
    {
     "output_type": "execute_result",
     "data": {
      "text/plain": [
       "226"
      ]
     },
     "metadata": {},
     "execution_count": 6
    }
   ],
   "source": [
    "real_rules = dict(read_data(\"input.txt\", parser=parse_bags))\n",
    "find_num_bag_colors(real_rules)"
   ]
  },
  {
   "source": [
    "Part II\n",
    "\n",
    "How many individual bags are required inside your single shiny gold bag?"
   ],
   "cell_type": "markdown",
   "metadata": {}
  },
  {
   "cell_type": "code",
   "execution_count": 7,
   "metadata": {},
   "outputs": [],
   "source": [
    "def sum_num_bags(rules: dict, start='shiny gold') -> int:\n",
    "    bag_sum = 0\n",
    "    for bag, num in rules.get(start, {}).items():\n",
    "        bag_sum += num + num * sum_num_bags(rules, bag)\n",
    "    return bag_sum\n"
   ]
  },
  {
   "cell_type": "code",
   "execution_count": 8,
   "metadata": {},
   "outputs": [
    {
     "output_type": "execute_result",
     "data": {
      "text/plain": [
       "9569"
      ]
     },
     "metadata": {},
     "execution_count": 8
    }
   ],
   "source": [
    "sum_num_bags(real_rules)"
   ]
  },
  {
   "cell_type": "code",
   "execution_count": null,
   "metadata": {},
   "outputs": [],
   "source": []
  }
 ]
}