{
 "metadata": {
  "language_info": {
   "codemirror_mode": {
    "name": "ipython",
    "version": 3
   },
   "file_extension": ".py",
   "mimetype": "text/x-python",
   "name": "python",
   "nbconvert_exporter": "python",
   "pygments_lexer": "ipython3",
   "version": "3.9.1-final"
  },
  "orig_nbformat": 2,
  "kernelspec": {
   "name": "python3",
   "display_name": "Python 3",
   "language": "python"
  }
 },
 "nbformat": 4,
 "nbformat_minor": 2,
 "cells": [
  {
   "cell_type": "code",
   "execution_count": 1,
   "metadata": {},
   "outputs": [],
   "source": [
    "from __future__  import annotations\n",
    "from collections import Counter, defaultdict, namedtuple, deque\n",
    "from itertools   import permutations, combinations, cycle, product, islice, chain\n",
    "from functools   import lru_cache\n",
    "from typing      import Dict, Tuple, Set, List, Iterator, Optional\n",
    "from sys         import maxsize\n",
    "\n",
    "import re\n",
    "import ast\n",
    "import operator\n",
    "\n",
    "import numpy as np"
   ]
  },
  {
   "cell_type": "code",
   "execution_count": 2,
   "metadata": {},
   "outputs": [],
   "source": [
    "def read_data(input: str, parser=str, sep='\\n', testing=False) -> list:\n",
    "    if testing:\n",
    "        sections = input.split(sep)\n",
    "    else:\n",
    "        sections = open(input).read().split(sep)\n",
    "    return [parser(section) for section in sections]"
   ]
  },
  {
   "cell_type": "code",
   "execution_count": 3,
   "metadata": {},
   "outputs": [],
   "source": [
    "test_string = \"\"\"0: 4 1 5\n",
    "1: 2 3 | 3 2\n",
    "2: 4 4 | 5 5\n",
    "3: 4 5 | 5 4\n",
    "4: \"a\"\n",
    "5: \"b\"\n",
    "\n",
    "ababbb\n",
    "bababa\n",
    "abbbab\n",
    "aaabbb\n",
    "aaaabbb\"\"\"\n",
    "test_ins = read_data(test_string, sep=\"\\n\\n\", testing=True)"
   ]
  },
  {
   "cell_type": "code",
   "execution_count": 4,
   "metadata": {},
   "outputs": [],
   "source": [
    "def parse_rule(string):\n",
    "    key, val = re.match(r\"(\\d+): (.+)\", string.replace('\"', '')).groups()\n",
    "    if len(val) == 1:\n",
    "        return int(key), val\n",
    "    # get 4 5 | 5 4 into the form ([4,5], [5,4])\n",
    "    # and 3 5 6 into the form [3, 5, 6]\n",
    "    # a tuple represents options, a list represents a seq of rules\n",
    "    elif \"|\" in val:\n",
    "        vals = val.split(\" | \")\n",
    "        res = tuple(list(map(int, val.split(\" \"))) for val in vals)\n",
    "    else:\n",
    "        res = list(list(map(int, val.split(\" \"))))\n",
    "    return int(key), res\n",
    "\n",
    "def parse_rules(strings):\n",
    "    raw_rules = strings.split(\"\\n\")\n",
    "    return dict(parse_rule(rule) for rule in raw_rules)\n",
    "\n",
    "def calculate_match(string: str, rule, rules: dict) -> int:\n",
    "    '''return 1 if match between string and rule'''\n",
    "    if not string and not rule:\n",
    "        # previous part of string exactly matched\n",
    "        return 1\n",
    "    if not string or not rule:\n",
    "        # extra in string or \n",
    "        return 0\n",
    "    if string[0] == rule[0]:\n",
    "        return calculate_match(string[1:], rule[1:], rules)\n",
    "    if isinstance(rule[0], int):\n",
    "        new_rule = rules[rule[0]]\n",
    "        return calculate_match(string, (rules[rule[0]], *rule[1:]), rules) \n",
    "    if isinstance(rule[0], list):\n",
    "        # if first element in rule is a list of rules\n",
    "        curr_rule = rule[0]\n",
    "        return calculate_match(string, (*curr_rule, *rule[1:]), rules)\n",
    "    if isinstance(rule[0], tuple):\n",
    "        # if first element in rule is a tuple of rule options\n",
    "        curr_rule = rule[0]\n",
    "        for option in curr_rule:\n",
    "            res = calculate_match(string, (option, *rule[1:]), rules)\n",
    "            if res:\n",
    "                return res\n",
    "    return 0\n",
    "\n",
    "def run_part1(input: List[str]):\n",
    "    raw_rules, raw_strings = input\n",
    "    rules = parse_rules(raw_rules)\n",
    "    strings = raw_strings.split()\n",
    "    return sum(calculate_match(string, rules[0], rules) for string in strings)"
   ]
  },
  {
   "cell_type": "code",
   "execution_count": 5,
   "metadata": {
    "tags": []
   },
   "outputs": [
    {
     "output_type": "execute_result",
     "data": {
      "text/plain": [
       "2"
      ]
     },
     "metadata": {},
     "execution_count": 5
    }
   ],
   "source": [
    "run_part1(test_ins) "
   ]
  },
  {
   "source": [
    "Part I  \n",
    "\n",
    "How many messages completely match rule 0?"
   ],
   "cell_type": "markdown",
   "metadata": {}
  },
  {
   "cell_type": "code",
   "execution_count": 6,
   "metadata": {},
   "outputs": [
    {
     "output_type": "execute_result",
     "data": {
      "text/plain": [
       "216"
      ]
     },
     "metadata": {},
     "execution_count": 6
    }
   ],
   "source": [
    "real_ins = read_data(\"input.txt\", sep=\"\\n\\n\")\n",
    "run_part1(real_ins)"
   ]
  },
  {
   "source": [
    "Part II\n",
    "\n",
    "After updating rules 8 and 11, how many messages completely match rule 0?"
   ],
   "cell_type": "markdown",
   "metadata": {}
  },
  {
   "cell_type": "code",
   "execution_count": 7,
   "metadata": {},
   "outputs": [],
   "source": [
    "def run_part2(input: List[str]):\n",
    "    raw_rules, raw_strings = input\n",
    "    # replace the rules manually such that the rule on the left always goes first\n",
    "    # if it suceeds, then there's no need to further recurse, avoiding infinite recursion\n",
    "    rules = {**parse_rules(raw_rules), 8: [42, ([], [8])], 11: [42, ([], [11]), 31]}\n",
    "    strings = raw_strings.split()\n",
    "    return sum(calculate_match(string, rules[0], rules) for string in strings)"
   ]
  },
  {
   "cell_type": "code",
   "execution_count": 8,
   "metadata": {},
   "outputs": [],
   "source": [
    "test_string2 = \"\"\"42: 9 14 | 10 1\n",
    "9: 14 27 | 1 26\n",
    "10: 23 14 | 28 1\n",
    "1: \"a\"\n",
    "11: 42 31\n",
    "5: 1 14 | 15 1\n",
    "19: 14 1 | 14 14\n",
    "12: 24 14 | 19 1\n",
    "16: 15 1 | 14 14\n",
    "31: 14 17 | 1 13\n",
    "6: 14 14 | 1 14\n",
    "2: 1 24 | 14 4\n",
    "0: 8 11\n",
    "13: 14 3 | 1 12\n",
    "15: 1 | 14\n",
    "17: 14 2 | 1 7\n",
    "23: 25 1 | 22 14\n",
    "28: 16 1\n",
    "4: 1 1\n",
    "20: 14 14 | 1 15\n",
    "3: 5 14 | 16 1\n",
    "27: 1 6 | 14 18\n",
    "14: \"b\"\n",
    "21: 14 1 | 1 14\n",
    "25: 1 1 | 1 14\n",
    "22: 14 14\n",
    "8: 42\n",
    "26: 14 22 | 1 20\n",
    "18: 15 15\n",
    "7: 14 5 | 1 21\n",
    "24: 14 1\n",
    "\n",
    "abbbbbabbbaaaababbaabbbbabababbbabbbbbbabaaaa\n",
    "bbabbbbaabaabba\n",
    "babbbbaabbbbbabbbbbbaabaaabaaa\n",
    "aaabbbbbbaaaabaababaabababbabaaabbababababaaa\n",
    "bbbbbbbaaaabbbbaaabbabaaa\n",
    "bbbababbbbaaaaaaaabbababaaababaabab\n",
    "ababaaaaaabaaab\n",
    "ababaaaaabbbaba\n",
    "baabbaaaabbaaaababbaababb\n",
    "abbbbabbbbaaaababbbbbbaaaababb\n",
    "aaaaabbaabaaaaababaa\n",
    "aaaabbaaaabbaaa\n",
    "aaaabbaabbaaaaaaabbbabbbaaabbaabaaa\n",
    "babaaabbbaaabaababbaabababaaab\n",
    "aabbbbbaabbbaaaaaabbbbbababaaaaabbaaabba\n",
    "\"\"\"\n",
    "test_ins2 = read_data(test_string2, sep=\"\\n\\n\", testing=True)"
   ]
  },
  {
   "cell_type": "code",
   "execution_count": 9,
   "metadata": {
    "tags": []
   },
   "outputs": [
    {
     "output_type": "execute_result",
     "data": {
      "text/plain": [
       "12"
      ]
     },
     "metadata": {},
     "execution_count": 9
    }
   ],
   "source": [
    "run_part2(test_ins2)"
   ]
  },
  {
   "cell_type": "code",
   "execution_count": 10,
   "metadata": {},
   "outputs": [
    {
     "output_type": "execute_result",
     "data": {
      "text/plain": [
       "400"
      ]
     },
     "metadata": {},
     "execution_count": 10
    }
   ],
   "source": [
    "run_part2(real_ins)"
   ]
  },
  {
   "cell_type": "code",
   "execution_count": null,
   "metadata": {},
   "outputs": [],
   "source": []
  }
 ]
}