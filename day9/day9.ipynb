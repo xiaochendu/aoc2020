{
 "metadata": {
  "language_info": {
   "codemirror_mode": {
    "name": "ipython",
    "version": 3
   },
   "file_extension": ".py",
   "mimetype": "text/x-python",
   "name": "python",
   "nbconvert_exporter": "python",
   "pygments_lexer": "ipython3",
   "version": "3.9.1-final"
  },
  "orig_nbformat": 2,
  "kernelspec": {
   "name": "python3",
   "display_name": "Python 3",
   "language": "python"
  }
 },
 "nbformat": 4,
 "nbformat_minor": 2,
 "cells": [
  {
   "cell_type": "code",
   "execution_count": 1,
   "metadata": {},
   "outputs": [],
   "source": [
    "from __future__  import annotations\n",
    "from collections import Counter, defaultdict, namedtuple, deque\n",
    "from itertools   import permutations, combinations, cycle, product, islice, chain\n",
    "from functools   import lru_cache\n",
    "from typing      import Dict, Tuple, Set, List, Iterator, Optional\n",
    "from sys         import maxsize\n",
    "\n",
    "import re\n",
    "import ast\n",
    "import operator"
   ]
  },
  {
   "cell_type": "code",
   "execution_count": 2,
   "metadata": {},
   "outputs": [],
   "source": [
    "def read_data(input: str, parser=str, sep='\\n', testing=False) -> list:\n",
    "    if testing:\n",
    "        sections = input.split(sep)\n",
    "    else:\n",
    "        sections = open(input).read().split(sep)\n",
    "    return [parser(section) for section in sections]"
   ]
  },
  {
   "cell_type": "code",
   "execution_count": 3,
   "metadata": {},
   "outputs": [],
   "source": [
    "string = \"\"\"35\n",
    "20\n",
    "15\n",
    "25\n",
    "47\n",
    "40\n",
    "62\n",
    "55\n",
    "65\n",
    "95\n",
    "102\n",
    "117\n",
    "150\n",
    "182\n",
    "127\"\"\""
   ]
  },
  {
   "cell_type": "code",
   "execution_count": 4,
   "metadata": {},
   "outputs": [
    {
     "output_type": "execute_result",
     "data": {
      "text/plain": [
       "[35, 20, 15, 25, 47, 40, 62, 55, 65, 95, 102, 117, 150, 182, 127]"
      ]
     },
     "metadata": {},
     "execution_count": 4
    }
   ],
   "source": [
    "test_ins = read_data(string, parser=int, sep=\"\\n\", testing=True)\n",
    "test_ins\n"
   ]
  },
  {
   "source": [
    "import numpy as np\n",
    "def find_sum(numbers: List[int], target: int) -> bool:\n",
    "    nums = np.array(numbers)\n",
    "    return any((target - num) in nums for num in nums)\n",
    "\n",
    "def run_part1(numbers: List[int], p_len=25) -> int:\n",
    "    for i in range(p_len, len(numbers)):\n",
    "        if not find_sum(numbers[i-p_len:i], target=numbers[i]):\n",
    "            return numbers[i]\n",
    "    return -1"
   ],
   "cell_type": "markdown",
   "metadata": {}
  },
  {
   "cell_type": "code",
   "execution_count": 7,
   "metadata": {
    "tags": []
   },
   "outputs": [],
   "source": [
    "run_part1(test_ins, p_len=5)"
   ]
  },
  {
   "cell_type": "code",
   "execution_count": 8,
   "metadata": {},
   "outputs": [
    {
     "output_type": "execute_result",
     "data": {
      "text/plain": [
       "127"
      ]
     },
     "metadata": {},
     "execution_count": 8
    }
   ],
   "source": [
    "Part I  \n",
    "\n",
    "The first step of attacking the weakness in the XMAS data is to find the first number in the list (after the preamble) which is not the sum of two of the 25 numbers before it. What is the first number that does not have this property?"
   ]
  },
  {
   "cell_type": "code",
   "execution_count": 27,
   "metadata": {},
   "outputs": [
    {
     "output_type": "execute_result",
     "data": {
      "text/plain": [
       "88311122"
      ]
     },
     "metadata": {},
     "execution_count": 27
    }
   ],
   "source": [
    "real_ins = read_data(\"input.txt\", parser=int)\n",
    "run_part1(real_ins)"
   ]
  },
  {
   "source": [
    "Part II\n",
    "\n",
    "What is the encryption weakness in your XMAS-encrypted list of numbers?"
   ],
   "cell_type": "markdown",
   "metadata": {}
  },
  {
   "cell_type": "code",
   "execution_count": 29,
   "metadata": {},
   "outputs": [],
   "source": [
    "def run_part2(numbers: List[\n",
    "    int]) -> int:\n",
    "    switch_dict = dict(\n",
    "        jmp='nop',\n",
    "        nop='jmp'\n",
    "    )\n",
    "    for idx, (ins, count) in enumerate(instructions):\n",
    "        if ins in switch_dict.keys():\n",
    "            ins_copy = instructions.copy()\n",
    "            # print(f\"ins before {ins_copy[idx]}\")\n",
    "            ins_copy[idx] = (switch_dict[ins], count)\n",
    "            # print(f\"ins after {ins_copy[idx]}\")\n",
    "            res, acc = run_part1(ins_copy)\n",
    "            if res:\n",
    "                return acc"
   ]
  },
  {
   "cell_type": "code",
   "execution_count": 31,
   "metadata": {},
   "outputs": [
    {
     "output_type": "execute_result",
     "data": {
      "text/plain": [
       "1643"
      ]
     },
     "metadata": {},
     "execution_count": 31
    }
   ],
   "source": [
    "run_part2(real_ins)"
   ]
  },
  {
   "cell_type": "code",
   "execution_count": null,
   "metadata": {},
   "outputs": [],
   "source": []
  }
 ]
}