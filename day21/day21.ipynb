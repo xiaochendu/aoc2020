{
 "metadata": {
  "language_info": {
   "codemirror_mode": {
    "name": "ipython",
    "version": 3
   },
   "file_extension": ".py",
   "mimetype": "text/x-python",
   "name": "python",
   "nbconvert_exporter": "python",
   "pygments_lexer": "ipython3",
   "version": "3.9"
  },
  "orig_nbformat": 2,
  "kernelspec": {
   "name": "pythonjvsc74a57bd029f88ea52ec83c8bd8b0e6e0fc632120b3bcf91783233876bf29b71ee3226f3c",
   "display_name": "Python 3.9  ('sciprog': conda)"
  },
  "metadata": {
   "interpreter": {
    "hash": "29f88ea52ec83c8bd8b0e6e0fc632120b3bcf91783233876bf29b71ee3226f3c"
   }
  }
 },
 "nbformat": 4,
 "nbformat_minor": 2,
 "cells": [
  {
   "cell_type": "code",
   "execution_count": 1,
   "metadata": {},
   "outputs": [],
   "source": [
    "from __future__  import annotations\n",
    "from collections import Counter, defaultdict, namedtuple, deque\n",
    "from itertools   import permutations, combinations, cycle, product, islice, chain, repeat\n",
    "from functools   import lru_cache\n",
    "from typing      import Dict, Tuple, Set, List, Iterator, Optional\n",
    "from sys         import maxsize\n",
    "\n",
    "import ast\n",
    "import math\n",
    "import operator\n",
    "import re\n",
    "\n",
    "import numpy as np"
   ]
  },
  {
   "cell_type": "code",
   "execution_count": 2,
   "metadata": {},
   "outputs": [],
   "source": [
    "Food = namedtuple(\"Food\", \"ingredients allergens\")\n",
    "\n",
    "def read_data(input: str, parser=str, sep='\\n', testing=False) -> list:\n",
    "    if testing:\n",
    "        sections = input.split(sep)\n",
    "    else:\n",
    "        sections = open(input).read().split(sep)\n",
    "    return [parser(section) for section in sections]"
   ]
  },
  {
   "cell_type": "code",
   "execution_count": 3,
   "metadata": {},
   "outputs": [
    {
     "output_type": "execute_result",
     "data": {
      "text/plain": [
       "Food(ingredients={'kfcds', 'mxmxvkd', 'nhms', 'sqjhc'}, allergens={'dairy', 'fish'})"
      ]
     },
     "metadata": {},
     "execution_count": 3
    }
   ],
   "source": [
    "def parse_expr(line) -> Food: \n",
    "    \"Parse an expression: mxmxvkd kfcds sqjhc nhms (contains dairy, fish) => Food(ingredients={'sqjhc', 'mxmxvkd', 'nhms', 'kfcds'}, allergens={'dairy', 'fish'}).\"\n",
    "    allergens = re.findall(r'.*\\(contains (.*)\\)', line).pop().split(\", \")\n",
    "    ingredients = re.findall(r'^([a-z\\s]*)\\(?.*', line).pop().split()\n",
    "    return Food(set(ingredients), set(allergens))\n",
    "\n",
    "parse_expr(\"mxmxvkd kfcds sqjhc nhms (contains dairy, fish)\")"
   ]
  },
  {
   "cell_type": "code",
   "execution_count": 4,
   "metadata": {},
   "outputs": [],
   "source": [
    "test_string = \"\"\"mxmxvkd kfcds sqjhc nhms (contains dairy, fish)\n",
    "trh fvjkl sbzzf mxmxvkd (contains dairy)\n",
    "sqjhc fvjkl (contains soy)\n",
    "sqjhc mxmxvkd sbzzf (contains fish)\"\"\"\n",
    "test_ins = read_data(test_string, parser=parse_expr, sep=\"\\n\", testing=True)\n"
   ]
  },
  {
   "source": [
    "Part I  \n",
    "\n",
    "Determine which ingredients cannot possibly contain any of the allergens in your list. How many times do any of those ingredients appear?"
   ],
   "cell_type": "markdown",
   "metadata": {}
  },
  {
   "cell_type": "code",
   "execution_count": 5,
   "metadata": {},
   "outputs": [],
   "source": [
    "def get_possible_allergens(foods: List[Food]) -> dict:\n",
    "    possible_allergens = defaultdict(set)\n",
    "\n",
    "    for food in foods:\n",
    "        for allergen in food.allergens:\n",
    "            if allergen in possible_allergens:\n",
    "                possible_allergens[allergen] = possible_allergens[allergen] & food.ingredients\n",
    "            else:\n",
    "                possible_allergens[allergen] = food.ingredients\n",
    "    \n",
    "    return possible_allergens"
   ]
  },
  {
   "cell_type": "code",
   "execution_count": 6,
   "metadata": {},
   "outputs": [],
   "source": [
    "def run_part1(input: List[Food]):\n",
    "    possible_allergens = get_possible_allergens(input)\n",
    "    return sum(len(food.ingredients - set(chain.from_iterable(possible_allergens.values()))) for food in input)"
   ]
  },
  {
   "cell_type": "code",
   "execution_count": 7,
   "metadata": {
    "tags": []
   },
   "outputs": [
    {
     "output_type": "execute_result",
     "data": {
      "text/plain": [
       "5"
      ]
     },
     "metadata": {},
     "execution_count": 7
    }
   ],
   "source": [
    "run_part1(test_ins)"
   ]
  },
  {
   "cell_type": "code",
   "execution_count": 8,
   "metadata": {},
   "outputs": [
    {
     "output_type": "execute_result",
     "data": {
      "text/plain": [
       "2162"
      ]
     },
     "metadata": {},
     "execution_count": 8
    }
   ],
   "source": [
    "real_ins = read_data(\"input.txt\", parser=parse_expr, sep=\"\\n\")\n",
    "run_part1(real_ins)"
   ]
  },
  {
   "source": [
    "Part II\n",
    "\n",
    "What is your canonical dangerous ingredient list?"
   ],
   "cell_type": "markdown",
   "metadata": {}
  },
  {
   "cell_type": "code",
   "execution_count": 9,
   "metadata": {},
   "outputs": [],
   "source": [
    "def eliminate_ingredient(possible_allergens: dict, ingredient: str):\n",
    "    for allergen in possible_allergens.keys():\n",
    "        # import pdb; pdb.set_trace()\n",
    "        possible_allergens[allergen] = possible_allergens[allergen] - {ingredient}\n",
    "\n",
    "def run_part2(input: List[Food]):\n",
    "    possible_allergens = get_possible_allergens(input)\n",
    "    all_allergens = set(possible_allergens.keys())\n",
    "    final_allergens = {}\n",
    "    while all_allergens:\n",
    "        for allergen in possible_allergens.keys():\n",
    "            ingredients = possible_allergens[allergen]\n",
    "            if len(ingredients) == 1:\n",
    "                ingredient = possible_allergens[allergen].pop()\n",
    "                all_allergens.remove(allergen)\n",
    "                final_allergens[allergen] = ingredient\n",
    "                eliminate_ingredient(possible_allergens, ingredient)\n",
    "    return \",\".join(v for k, v in sorted(final_allergens.items(), key=lambda x: x[0]))"
   ]
  },
  {
   "cell_type": "code",
   "execution_count": 10,
   "metadata": {
    "tags": []
   },
   "outputs": [
    {
     "output_type": "execute_result",
     "data": {
      "text/plain": [
       "'mxmxvkd,sqjhc,fvjkl'"
      ]
     },
     "metadata": {},
     "execution_count": 10
    }
   ],
   "source": [
    "run_part2(test_ins)"
   ]
  },
  {
   "cell_type": "code",
   "execution_count": 11,
   "metadata": {},
   "outputs": [
    {
     "output_type": "execute_result",
     "data": {
      "text/plain": [
       "'lmzg,cxk,bsqh,bdvmx,cpbzbx,drbm,cfnt,kqprv'"
      ]
     },
     "metadata": {},
     "execution_count": 11
    }
   ],
   "source": [
    "run_part2(real_ins)"
   ]
  },
  {
   "cell_type": "code",
   "execution_count": null,
   "metadata": {},
   "outputs": [],
   "source": []
  }
 ]
}