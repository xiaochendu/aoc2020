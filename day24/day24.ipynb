{
 "metadata": {
  "language_info": {
   "codemirror_mode": {
    "name": "ipython",
    "version": 3
   },
   "file_extension": ".py",
   "mimetype": "text/x-python",
   "name": "python",
   "nbconvert_exporter": "python",
   "pygments_lexer": "ipython3",
   "version": "3.9.1-final"
  },
  "orig_nbformat": 2,
  "kernelspec": {
   "name": "python3",
   "display_name": "Python 3",
   "language": "python"
  }
 },
 "nbformat": 4,
 "nbformat_minor": 2,
 "cells": [
  {
   "cell_type": "code",
   "execution_count": 1,
   "metadata": {},
   "outputs": [],
   "source": [
    "from __future__  import annotations\n",
    "from collections import Counter, defaultdict, namedtuple, deque\n",
    "from itertools   import permutations, combinations, cycle, product, islice, chain\n",
    "from functools   import lru_cache\n",
    "from typing      import Dict, Tuple, Set, List, Iterator, Optional\n",
    "from sys         import maxsize\n",
    "\n",
    "import re\n",
    "import ast\n",
    "import operator\n",
    "\n",
    "import numpy as np"
   ]
  },
  {
   "cell_type": "code",
   "execution_count": 2,
   "metadata": {},
   "outputs": [],
   "source": [
    "def read_data(input: str, parser=str, sep='\\n', testing=False) -> list:\n",
    "    if testing:\n",
    "        sections = input.split(sep)\n",
    "    else:\n",
    "        sections = open(input).read().split(sep)\n",
    "    return [parser(section) for section in sections]"
   ]
  },
  {
   "cell_type": "code",
   "execution_count": 3,
   "metadata": {},
   "outputs": [],
   "source": [
    "def parse_data(input: str) -> List[str]:\n",
    "    return re.findall(r\"nw|se|ne|sw|e|w\", input)"
   ]
  },
  {
   "cell_type": "code",
   "execution_count": 4,
   "metadata": {},
   "outputs": [],
   "source": [
    "mini_test = \"sesenwnenenewseeswwswswwnenewsewsw\"\n",
    "assert len(\"\".join(parse_data(mini_test))) == len(mini_test)"
   ]
  },
  {
   "cell_type": "code",
   "execution_count": 5,
   "metadata": {},
   "outputs": [],
   "source": [
    "test_string = \"\"\"sesenwnenenewseeswwswswwnenewsewsw\n",
    "neeenesenwnwwswnenewnwwsewnenwseswesw\n",
    "seswneswswsenwwnwse\n",
    "nwnwneseeswswnenewneswwnewseswneseene\n",
    "swweswneswnenwsewnwneneseenw\n",
    "eesenwseswswnenwswnwnwsewwnwsene\n",
    "sewnenenenesenwsewnenwwwse\n",
    "wenwwweseeeweswwwnwwe\n",
    "wsweesenenewnwwnwsenewsenwwsesesenwne\n",
    "neeswseenwwswnwswswnw\n",
    "nenwswwsewswnenenewsenwsenwnesesenew\n",
    "enewnwewneswsewnwswenweswnenwsenwsw\n",
    "sweneswneswneneenwnewenewwneswswnese\n",
    "swwesenesewenwneswnwwneseswwne\n",
    "enesenwswwswneneswsenwnewswseenwsese\n",
    "wnwnesenesenenwwnenwsewesewsesesew\n",
    "nenewswnwewswnenesenwnesewesw\n",
    "eneswnwswnwsenenwnwnwwseeswneewsenese\n",
    "neswnwewnwnwseenwseesewsenwsweewe\n",
    "wseweeenwnesenwwwswnew\n",
    "\"\"\"\n",
    "test_ins = read_data(test_string, parser=parse_data, sep=None, testing=True)"
   ]
  },
  {
   "source": [
    "Part I  \n",
    "\n",
    "Go through the renovation crew's list and determine which tiles they need to flip. After all of the instructions have been followed, how many tiles are left with the black side up?"
   ],
   "cell_type": "markdown",
   "metadata": {}
  },
  {
   "cell_type": "code",
   "execution_count": 6,
   "metadata": {},
   "outputs": [],
   "source": [
    "dir = dict(\n",
    "    e=(1,0),\n",
    "    w=(-1,0),\n",
    "    nw=(0,-1),\n",
    "    se=(0,1),\n",
    "    ne=(1,-1),\n",
    "    sw=(-1,1)\n",
    ")\n",
    "\n",
    "def get_final_coord(ins: List[str]) -> Tuple[int]:\n",
    "    x, y = (0, 0)\n",
    "    for instruct in ins:\n",
    "        dx, dy = dir[instruct]\n",
    "        x += dx\n",
    "        y += dy\n",
    "    return (x, y)\n",
    "\n",
    "def get_blacks(ins: List[List[str]]) -> Set:\n",
    "    blacks = set()\n",
    "    for tile in ins:\n",
    "        tile_coord = get_final_coord(tile)\n",
    "        blacks.remove(tile_coord) if tile_coord in blacks else blacks.add(tile_coord)\n",
    "    return blacks\n",
    "\n",
    "def run_part1(ins: List[List[str]]) -> int:\n",
    "    blacks = get_blacks(ins)\n",
    "    return len(blacks)"
   ]
  },
  {
   "cell_type": "code",
   "execution_count": 7,
   "metadata": {},
   "outputs": [
    {
     "output_type": "execute_result",
     "data": {
      "text/plain": [
       "10"
      ]
     },
     "metadata": {},
     "execution_count": 7
    }
   ],
   "source": [
    "run_part1(test_ins)"
   ]
  },
  {
   "cell_type": "code",
   "execution_count": 8,
   "metadata": {},
   "outputs": [
    {
     "output_type": "execute_result",
     "data": {
      "text/plain": [
       "289"
      ]
     },
     "metadata": {},
     "execution_count": 8
    }
   ],
   "source": [
    "real_ins = read_data(\"input.txt\", parser=parse_data, sep=None)\n",
    "run_part1(real_ins)"
   ]
  },
  {
   "source": [
    "Part II\n",
    "\n",
    "How many tiles will be black after 100 days?"
   ],
   "cell_type": "markdown",
   "metadata": {}
  },
  {
   "cell_type": "code",
   "execution_count": 9,
   "metadata": {},
   "outputs": [],
   "source": [
    "criteria = dict(\n",
    "    black=(1, 2),\n",
    "    white=(2,)\n",
    ")\n",
    "\n",
    "def get_neighbors(tile: Tuple[int]) -> List[Tuple[int]]:\n",
    "    x, y = tile\n",
    "    return [(x+dx, y+dy) for dx, dy in dir.values()]\n",
    "\n",
    "def run_part2(ins: List[List[str]], days=100) -> int:\n",
    "    # get the starting blacks\n",
    "    blacks = get_blacks(ins)\n",
    "    # iterate over days\n",
    "    for _ in range(days):\n",
    "        # count the number of black neighbors for each tile\n",
    "        counts = Counter(chain(*[get_neighbors(tile) for tile in blacks]))\n",
    "        # evaluate the new blacks for next iteration\n",
    "        blacks = {tile for tile, count in counts.items() if tile in blacks and count in criteria[\"black\"]}.union({tile for tile, count in counts.items() if tile not in blacks and count in criteria[\"white\"]})\n",
    "\n",
    "    return len(blacks)\n"
   ]
  },
  {
   "source": [
    "run_part2(test_ins)"
   ],
   "cell_type": "code",
   "metadata": {
    "tags": []
   },
   "execution_count": 10,
   "outputs": [
    {
     "output_type": "execute_result",
     "data": {
      "text/plain": [
       "2208"
      ]
     },
     "metadata": {},
     "execution_count": 10
    }
   ]
  },
  {
   "cell_type": "code",
   "execution_count": 11,
   "metadata": {
    "tags": []
   },
   "outputs": [
    {
     "output_type": "execute_result",
     "data": {
      "text/plain": [
       "3551"
      ]
     },
     "metadata": {},
     "execution_count": 11
    }
   ],
   "source": [
    "run_part2(real_ins)"
   ]
  },
  {
   "source": [],
   "cell_type": "markdown",
   "metadata": {}
  }
 ]
}