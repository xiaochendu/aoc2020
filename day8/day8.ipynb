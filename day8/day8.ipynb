{
 "metadata": {
  "language_info": {
   "codemirror_mode": {
    "name": "ipython",
    "version": 3
   },
   "file_extension": ".py",
   "mimetype": "text/x-python",
   "name": "python",
   "nbconvert_exporter": "python",
   "pygments_lexer": "ipython3",
   "version": "3.9.1-final"
  },
  "orig_nbformat": 2,
  "kernelspec": {
   "name": "python3",
   "display_name": "Python 3",
   "language": "python"
  }
 },
 "nbformat": 4,
 "nbformat_minor": 2,
 "cells": [
  {
   "cell_type": "code",
   "execution_count": 1,
   "metadata": {},
   "outputs": [],
   "source": [
    "from __future__  import annotations\n",
    "from collections import Counter, defaultdict, namedtuple, deque\n",
    "from itertools   import permutations, combinations, cycle, product, islice, chain\n",
    "from functools   import lru_cache\n",
    "from typing      import Dict, Tuple, Set, List, Iterator, Optional\n",
    "from sys         import maxsize\n",
    "\n",
    "import re\n",
    "import ast\n",
    "import operator"
   ]
  },
  {
   "cell_type": "code",
   "execution_count": 2,
   "metadata": {},
   "outputs": [],
   "source": [
    "def read_data(input: str, parser=str, sep='\\n', testing=False) -> list:\n",
    "    if testing:\n",
    "        sections = input.split(sep)\n",
    "    else:\n",
    "        sections = open(input).read().split(sep)\n",
    "    return [parser(section) for section in sections]"
   ]
  },
  {
   "cell_type": "code",
   "execution_count": 3,
   "metadata": {},
   "outputs": [],
   "source": [
    "def parse_instructions(input: str) -> List[str]:\n",
    "    [(ins, count)] = re.findall(r'^(acc|jmp|nop) ([-+][\\d]+)', input)\n",
    "    return ins, int(count)"
   ]
  },
  {
   "cell_type": "code",
   "execution_count": 4,
   "metadata": {},
   "outputs": [],
   "source": [
    "string = \"\"\"nop +0\n",
    "acc +1\n",
    "jmp +4\n",
    "acc +3\n",
    "jmp -3\n",
    "acc -99\n",
    "acc +1\n",
    "jmp -4\n",
    "acc +6\"\"\""
   ]
  },
  {
   "cell_type": "code",
   "execution_count": 5,
   "metadata": {},
   "outputs": [],
   "source": [
    "test_ins = read_data(string, parser=parse_instructions, sep=\"\\n\", testing=True)\n"
   ]
  },
  {
   "cell_type": "code",
   "execution_count": 32,
   "metadata": {
    "tags": []
   },
   "outputs": [],
   "source": [
    "def run_part1(instructions: List[Tuple[str, int]]) -> Tuple[bool, int]:\n",
    "    acc = ins_idx = 0\n",
    "    used_ins = set()\n",
    "    while 0 <= ins_idx < len(instructions):\n",
    "        if ins_idx in used_ins:\n",
    "            return False, acc\n",
    "        else:\n",
    "            used_ins.add(ins_idx)\n",
    "\n",
    "        ins, count = instructions[ins_idx]\n",
    "        if ins == 'acc':\n",
    "            acc += count\n",
    "        elif ins == 'jmp':\n",
    "            ins_idx = ins_idx - 1 + count\n",
    "        ins_idx += 1 \n",
    "    return True, acc"
   ]
  },
  {
   "cell_type": "code",
   "execution_count": 25,
   "metadata": {},
   "outputs": [
    {
     "output_type": "execute_result",
     "data": {
      "text/plain": [
       "(False, 5)"
      ]
     },
     "metadata": {},
     "execution_count": 25
    }
   ],
   "source": [
    "run_part1(test_ins)"
   ]
  },
  {
   "source": [
    "Part I  \n",
    "\n",
    "Run your copy of the boot code. Immediately before any instruction is executed a second time, what value is in the accumulator?"
   ],
   "cell_type": "markdown",
   "metadata": {}
  },
  {
   "cell_type": "code",
   "execution_count": 26,
   "metadata": {},
   "outputs": [
    {
     "output_type": "execute_result",
     "data": {
      "text/plain": [
       "(False, 1262)"
      ]
     },
     "metadata": {},
     "execution_count": 26
    }
   ],
   "source": [
    "real_ins = read_data(\"input.txt\", parser=parse_instructions)\n",
    "run_part1(real_ins)"
   ]
  },
  {
   "source": [
    "Part II\n",
    "\n",
    "Fix the program so that it terminates normally by changing exactly one jmp (to nop) or nop (to jmp). What is the value of the accumulator after the program terminates?\n"
   ],
   "cell_type": "markdown",
   "metadata": {}
  },
  {
   "cell_type": "code",
   "execution_count": 29,
   "metadata": {},
   "outputs": [],
   "source": [
    "def run_part2(instructions: List[Tuple[str, int]]) -> int:\n",
    "    switch_dict = dict(\n",
    "        jmp='nop',\n",
    "        nop='jmp'\n",
    "    )\n",
    "    for idx, (ins, count) in enumerate(instructions):\n",
    "        if ins in switch_dict.keys():\n",
    "            ins_copy = instructions.copy()\n",
    "            # print(f\"ins before {ins_copy[idx]}\")\n",
    "            ins_copy[idx] = (switch_dict[ins], count)\n",
    "            # print(f\"ins after {ins_copy[idx]}\")\n",
    "            res, acc = run_part1(ins_copy)\n",
    "            if res:\n",
    "                return acc"
   ]
  },
  {
   "cell_type": "code",
   "execution_count": 31,
   "metadata": {},
   "outputs": [
    {
     "output_type": "execute_result",
     "data": {
      "text/plain": [
       "1643"
      ]
     },
     "metadata": {},
     "execution_count": 31
    }
   ],
   "source": [
    "run_part2(real_ins)"
   ]
  },
  {
   "cell_type": "code",
   "execution_count": null,
   "metadata": {},
   "outputs": [],
   "source": []
  }
 ]
}