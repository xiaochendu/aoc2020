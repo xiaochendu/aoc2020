{
 "metadata": {
  "language_info": {
   "codemirror_mode": {
    "name": "ipython",
    "version": 3
   },
   "file_extension": ".py",
   "mimetype": "text/x-python",
   "name": "python",
   "nbconvert_exporter": "python",
   "pygments_lexer": "ipython3",
   "version": "3.9.1-final"
  },
  "orig_nbformat": 2,
  "kernelspec": {
   "name": "python3",
   "display_name": "Python 3",
   "language": "python"
  }
 },
 "nbformat": 4,
 "nbformat_minor": 2,
 "cells": [
  {
   "cell_type": "code",
   "execution_count": 1,
   "metadata": {},
   "outputs": [],
   "source": [
    "from __future__  import annotations\n",
    "from collections import Counter, defaultdict, namedtuple, deque\n",
    "from itertools   import permutations, combinations, cycle, product, islice, chain\n",
    "from functools   import lru_cache\n",
    "from typing      import Dict, Tuple, Set, List, Iterator, Optional\n",
    "from sys         import maxsize\n",
    "\n",
    "import re\n",
    "import ast\n",
    "import operator\n",
    "\n",
    "import numpy as np"
   ]
  },
  {
   "cell_type": "code",
   "execution_count": 2,
   "metadata": {},
   "outputs": [],
   "source": [
    "def read_data(input: str, parser=str, sep='\\n', testing=False) -> list:\n",
    "    if testing:\n",
    "        sections = input.split(sep)\n",
    "    else:\n",
    "        sections = open(input).read().split(sep)\n",
    "    return [parser(section) for section in sections]"
   ]
  },
  {
   "cell_type": "code",
   "execution_count": 3,
   "metadata": {},
   "outputs": [],
   "source": [
    "test_string = \"\"\".#.\n",
    "..#\n",
    "###\"\"\""
   ]
  },
  {
   "cell_type": "code",
   "execution_count": 7,
   "metadata": {},
   "outputs": [],
   "source": [
    "flatten = chain.from_iterable\n",
    "\n",
    "class ConwayCubes():\n",
    "    def __init__(self):\n",
    "        super().__init__()\n",
    "        self.flatten = chain.from_iterable\n",
    "        self.active = '#'\n",
    "        self.inactive = '.'\n",
    "        self.curr_state = list()\n",
    "\n",
    "    def get_neighbors(self, cell):\n",
    "        ndim = len(cell)\n",
    "        deltas = set(product((-1, 0, +1), repeat=ndim)) - set(((0,)* ndim,))\n",
    "        neighbors = [tuple(map(operator.add, cell, delta)) for delta in deltas]\n",
    "        return neighbors\n",
    "\n",
    "    def update_cycle(self):\n",
    "        num_active_neighbors = Counter(flatten([self.get_neighbors(cell) for cell in self.curr_state]))\n",
    "        new_state = [cell for cell, count in num_active_neighbors.items()\n",
    "                    if count == 3 or (count == 2 and cell in self.curr_state)]\n",
    "        self.curr_state = new_state\n",
    "\n",
    "    def initialize(self, input: List[List[str]], start_dims: Tuple[int]):\n",
    "        self.curr_state = list()\n",
    "        x_dim, y_dim, *_ = start_dims\n",
    "        for y, row in enumerate(input):\n",
    "            for x, cell in enumerate(row):\n",
    "                if input[y][x] == self.active:\n",
    "                    self.curr_state.append((x, y, *(0,) * (len(start_dims) - 2) ))\n",
    "\n",
    "    def run_part1(self, input: List[List[str]], start_dims=(3, 3, 1)):\n",
    "        self.initialize(input, start_dims)\n",
    "        dims = start_dims\n",
    "        for i in range(6):\n",
    "            self.update_cycle()\n",
    "        return len(self.curr_state)"
   ]
  },
  {
   "source": [
    "Part I  \n",
    "\n",
    "Starting with your given initial configuration, simulate six cycles. How many cubes are left in the active state after the sixth cycle?"
   ],
   "cell_type": "markdown",
   "metadata": {}
  },
  {
   "cell_type": "code",
   "execution_count": 8,
   "metadata": {
    "tags": []
   },
   "outputs": [],
   "source": [
    "test_in = read_data(test_string, parser=str, sep='\\n', testing=True)\n",
    "cubes3d = ConwayCubes()\n",
    "assert cubes3d.run_part1(test_in, start_dims=(3, 3, 1)) == 112"
   ]
  },
  {
   "cell_type": "code",
   "execution_count": 9,
   "metadata": {},
   "outputs": [
    {
     "output_type": "execute_result",
     "data": {
      "text/plain": [
       "324"
      ]
     },
     "metadata": {},
     "execution_count": 9
    }
   ],
   "source": [
    "real_ins = read_data(\"input.txt\")\n",
    "cubes3d.run_part1(real_ins, start_dims=(8, 8, 1))"
   ]
  },
  {
   "source": [
    "Part II\n",
    "\n",
    "Given your starting numbers, what will be the 30000000th number spoken?"
   ],
   "cell_type": "markdown",
   "metadata": {}
  },
  {
   "cell_type": "code",
   "execution_count": 10,
   "metadata": {
    "tags": []
   },
   "outputs": [],
   "source": [
    "assert cubes3d.run_part1(test_in, start_dims=(3, 3, 1, 1)) == 848"
   ]
  },
  {
   "cell_type": "code",
   "execution_count": 11,
   "metadata": {},
   "outputs": [
    {
     "output_type": "execute_result",
     "data": {
      "text/plain": [
       "1836"
      ]
     },
     "metadata": {},
     "execution_count": 11
    }
   ],
   "source": [
    "cubes3d.run_part1(real_ins, start_dims=(8, 8, 1, 1))"
   ]
  },
  {
   "cell_type": "code",
   "execution_count": null,
   "metadata": {},
   "outputs": [],
   "source": []
  }
 ]
}