{
 "metadata": {
  "language_info": {
   "codemirror_mode": {
    "name": "ipython",
    "version": 3
   },
   "file_extension": ".py",
   "mimetype": "text/x-python",
   "name": "python",
   "nbconvert_exporter": "python",
   "pygments_lexer": "ipython3",
   "version": "3.9.1-final"
  },
  "orig_nbformat": 2,
  "kernelspec": {
   "name": "python3",
   "display_name": "Python 3",
   "language": "python"
  }
 },
 "nbformat": 4,
 "nbformat_minor": 2,
 "cells": [
  {
   "cell_type": "code",
   "execution_count": 1,
   "metadata": {},
   "outputs": [],
   "source": [
    "from __future__  import annotations\n",
    "from collections import Counter, defaultdict, namedtuple, deque\n",
    "from itertools   import permutations, combinations, cycle, product, islice, chain\n",
    "from functools   import lru_cache\n",
    "from typing      import Dict, Tuple, Set, List, Iterator, Optional\n",
    "from sys         import maxsize\n",
    "\n",
    "import re\n",
    "import ast\n",
    "import operator\n",
    "\n",
    "import numpy as np"
   ]
  },
  {
   "cell_type": "code",
   "execution_count": 2,
   "metadata": {},
   "outputs": [],
   "source": [
    "def read_data(input: str, parser=str, sep='\\n', testing=False) -> list:\n",
    "    if testing:\n",
    "        sections = input.split(sep)\n",
    "    else:\n",
    "        sections = open(input).read().split(sep)\n",
    "    return [parser(section) for section in sections]"
   ]
  },
  {
   "cell_type": "code",
   "execution_count": 3,
   "metadata": {},
   "outputs": [
    {
     "output_type": "execute_result",
     "data": {
      "text/plain": [
       "(2, '*', 3, '+', (4, '*', 5))"
      ]
     },
     "metadata": {},
     "execution_count": 3
    }
   ],
   "source": [
    "def parse_expr(line) -> tuple: \n",
    "    \"Parse an expression: '2 + 3 * 4' => (2, '+', 3, '*', 4).\"\n",
    "    return ast.literal_eval(re.sub('([+*])', r\",'\\1',\", line))\n",
    "\n",
    "parse_expr(\"2 * 3 + (4 * 5)\")"
   ]
  },
  {
   "cell_type": "code",
   "execution_count": 4,
   "metadata": {},
   "outputs": [],
   "source": [
    "test_string = \"\"\"2 * 3 + (4 * 5)\n",
    "5 + (8 * 3 + 9 + 3 * 4 * 3)\n",
    "5 * 9 * (7 * 3 * 3 + 9 * 3 + (8 + 6 * 4))\n",
    "((2 + 4 * 9) * (6 + 9 * 8 + 6) + 6) + 2 + 4 * 2\"\"\"\n",
    "test_ins = read_data(test_string, parser=parse_expr, testing=True)"
   ]
  },
  {
   "cell_type": "code",
   "execution_count": 5,
   "metadata": {},
   "outputs": [],
   "source": [
    "ops = {\n",
    "    '+': operator.add,\n",
    "    '*': operator.mul\n",
    "}\n",
    "\n",
    "def eval_expression(input):\n",
    "    if type(input) == int:\n",
    "        return input\n",
    "    a, op, b, *rem = input\n",
    "    res = ops[op](eval_expression(a), eval_expression(b))\n",
    "    return res if not rem else eval_expression((res, *rem)) \n",
    "\n",
    "\n",
    "def run_part1(input: List[str]):\n",
    "    return sum(eval_expression(expr) for expr in input)"
   ]
  },
  {
   "cell_type": "code",
   "execution_count": 6,
   "metadata": {
    "tags": []
   },
   "outputs": [],
   "source": [
    "assert run_part1(test_ins) == 26 + 437 + 12240 + 13632"
   ]
  },
  {
   "source": [
    "Part I  \n",
    "\n",
    "Before you can help with the homework, you need to understand it yourself. Evaluate the expression on each line of the homework; what is the sum of the resulting values?"
   ],
   "cell_type": "markdown",
   "metadata": {}
  },
  {
   "cell_type": "code",
   "execution_count": 7,
   "metadata": {},
   "outputs": [
    {
     "output_type": "execute_result",
     "data": {
      "text/plain": [
       "6811433855019"
      ]
     },
     "metadata": {},
     "execution_count": 7
    }
   ],
   "source": [
    "real_ins = read_data(\"input.txt\", parser=parse_expr)\n",
    "run_part1(real_ins)"
   ]
  },
  {
   "source": [
    "Part II\n",
    "\n",
    "What do you get if you add up the results of evaluating the homework problems using these new rules?"
   ],
   "cell_type": "markdown",
   "metadata": {}
  },
  {
   "cell_type": "code",
   "execution_count": 8,
   "metadata": {},
   "outputs": [],
   "source": [
    "def eval_expression2(input):\n",
    "    if type(input) == int:\n",
    "        return input\n",
    "    if len(input) == 1:\n",
    "        return eval_expression2(input[0])\n",
    "    elif '*' in input:\n",
    "        op_idx = input.index('*')\n",
    "        return eval_expression2(input[:op_idx]) * eval_expression2(input[op_idx+1:])\n",
    "    else:\n",
    "        a, op, b, *rem = input\n",
    "        res = ops[op](eval_expression2(a), eval_expression2(b))\n",
    "        return res if not rem else eval_expression2((res, *rem)) \n",
    "\n",
    "def run_part2(input: list):\n",
    "    return sum(eval_expression2(expr) for expr in input)"
   ]
  },
  {
   "cell_type": "code",
   "execution_count": 9,
   "metadata": {},
   "outputs": [],
   "source": [
    "test_string2 = \"\"\"1 + (2 * 3) + (4 * (5 + 6))\n",
    "2 * 3 + (4 * 5)\n",
    "5 + (8 * 3 + 9 + 3 * 4 * 3)\n",
    "5 * 9 * (7 * 3 * 3 + 9 * 3 + (8 + 6 * 4))\n",
    "((2 + 4 * 9) * (6 + 9 * 8 + 6) + 6) + 2 + 4 * 2\"\"\"\n",
    "test_ins2 = read_data(test_string2, parser=parse_expr, testing=True)"
   ]
  },
  {
   "cell_type": "code",
   "execution_count": 10,
   "metadata": {
    "tags": []
   },
   "outputs": [],
   "source": [
    "assert run_part2(test_ins2) == 51 + 46 + 1445 + 669060 + 23340"
   ]
  },
  {
   "cell_type": "code",
   "execution_count": 11,
   "metadata": {},
   "outputs": [
    {
     "output_type": "execute_result",
     "data": {
      "text/plain": [
       "129770152447927"
      ]
     },
     "metadata": {},
     "execution_count": 11
    }
   ],
   "source": [
    "run_part2(real_ins)"
   ]
  },
  {
   "cell_type": "code",
   "execution_count": null,
   "metadata": {},
   "outputs": [],
   "source": []
  }
 ]
}